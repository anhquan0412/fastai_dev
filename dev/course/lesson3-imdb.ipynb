{
 "cells": [
  {
   "cell_type": "markdown",
   "metadata": {},
   "source": [
    "# IMDB"
   ]
  },
  {
   "cell_type": "code",
   "execution_count": null,
   "metadata": {},
   "outputs": [],
   "source": [
    "%matplotlib inline"
   ]
  },
  {
   "cell_type": "code",
   "execution_count": null,
   "metadata": {},
   "outputs": [],
   "source": [
    "from fastai2.basics import *\n",
    "from fastai2.callback.all import *\n",
    "from fastai2.text.all import *\n",
    "from nbdev.showdoc import *"
   ]
  },
  {
   "cell_type": "markdown",
   "metadata": {},
   "source": [
    "## Preparing the data"
   ]
  },
  {
   "cell_type": "markdown",
   "metadata": {},
   "source": [
    "First let's download the dataset we are going to study. The [dataset](http://ai.stanford.edu/~amaas/data/sentiment/) has been curated by Andrew Maas et al. and contains a total of 100,000 reviews on IMDB. 25,000 of them are labelled as positive and negative for training, another 25,000 are labelled for testing (in both cases they are highly polarized). The remaning 50,000 is an additional unlabelled data (but we will find a use for it nonetheless).\n",
    "\n",
    "We'll begin with a sample we've prepared for you, so that things run quickly before going over the full dataset."
   ]
  },
  {
   "cell_type": "code",
   "execution_count": null,
   "metadata": {},
   "outputs": [
    {
     "data": {
      "text/plain": [
       "(#7) [/home/sgugger/.fastai/data/imdb_sample/models,/home/sgugger/.fastai/data/imdb_sample/texts.csv,/home/sgugger/.fastai/data/imdb_sample/tmp.pkl,/home/sgugger/.fastai/data/imdb_sample/export_clas.pkl,/home/sgugger/.fastai/data/imdb_sample/data_clas_export.pkl,/home/sgugger/.fastai/data/imdb_sample/export_lm.pkl,/home/sgugger/.fastai/data/imdb_sample/data_lm_export.pkl]"
      ]
     },
     "execution_count": null,
     "metadata": {},
     "output_type": "execute_result"
    }
   ],
   "source": [
    "path = untar_data(URLs.IMDB_SAMPLE)\n",
    "path.ls()"
   ]
  },
  {
   "cell_type": "markdown",
   "metadata": {},
   "source": [
    "It only contains one csv file, let's have a look at it."
   ]
  },
  {
   "cell_type": "code",
   "execution_count": null,
   "metadata": {},
   "outputs": [
    {
     "data": {
      "text/html": [
       "<div>\n",
       "<style scoped>\n",
       "    .dataframe tbody tr th:only-of-type {\n",
       "        vertical-align: middle;\n",
       "    }\n",
       "\n",
       "    .dataframe tbody tr th {\n",
       "        vertical-align: top;\n",
       "    }\n",
       "\n",
       "    .dataframe thead th {\n",
       "        text-align: right;\n",
       "    }\n",
       "</style>\n",
       "<table border=\"1\" class=\"dataframe\">\n",
       "  <thead>\n",
       "    <tr style=\"text-align: right;\">\n",
       "      <th></th>\n",
       "      <th>label</th>\n",
       "      <th>text</th>\n",
       "      <th>is_valid</th>\n",
       "    </tr>\n",
       "  </thead>\n",
       "  <tbody>\n",
       "    <tr>\n",
       "      <td>0</td>\n",
       "      <td>negative</td>\n",
       "      <td>Un-bleeping-believable! Meg Ryan doesn't even look her usual pert lovable self in this, which normally makes me forgive her shallow ticky acting schtick. Hard to believe she was the producer on this dog. Plus Kevin Kline: what kind of suicide trip has his career been on? Whoosh... Banzai!!! Finally this was directed by the guy who did Big Chill? Must be a replay of Jonestown - hollywood style. Wooofff!</td>\n",
       "      <td>False</td>\n",
       "    </tr>\n",
       "    <tr>\n",
       "      <td>1</td>\n",
       "      <td>positive</td>\n",
       "      <td>This is a extremely well-made film. The acting, script and camera-work are all first-rate. The music is good, too, though it is mostly early in the film, when things are still relatively cheery. There are no really superstars in the cast, though several faces will be familiar. The entire cast does an excellent job with the script.&lt;br /&gt;&lt;br /&gt;But it is hard to watch, because there is no good end to a situation like the one presented. It is now fashionable to blame the British for setting Hindus and Muslims against each other, and then cruelly separating them into two countries. There is som...</td>\n",
       "      <td>False</td>\n",
       "    </tr>\n",
       "    <tr>\n",
       "      <td>2</td>\n",
       "      <td>negative</td>\n",
       "      <td>Every once in a long while a movie will come along that will be so awful that I feel compelled to warn people. If I labor all my days and I can save but one soul from watching this movie, how great will be my joy.&lt;br /&gt;&lt;br /&gt;Where to begin my discussion of pain. For starters, there was a musical montage every five minutes. There was no character development. Every character was a stereotype. We had swearing guy, fat guy who eats donuts, goofy foreign guy, etc. The script felt as if it were being written as the movie was being shot. The production value was so incredibly low that it felt li...</td>\n",
       "      <td>False</td>\n",
       "    </tr>\n",
       "    <tr>\n",
       "      <td>3</td>\n",
       "      <td>positive</td>\n",
       "      <td>Name just says it all. I watched this movie with my dad when it came out and having served in Korea he had great admiration for the man. The disappointing thing about this film is that it only concentrate on a short period of the man's life - interestingly enough the man's entire life would have made such an epic bio-pic that it is staggering to imagine the cost for production.&lt;br /&gt;&lt;br /&gt;Some posters elude to the flawed characteristics about the man, which are cheap shots. The theme of the movie \"Duty, Honor, Country\" are not just mere words blathered from the lips of a high-brassed offic...</td>\n",
       "      <td>False</td>\n",
       "    </tr>\n",
       "    <tr>\n",
       "      <td>4</td>\n",
       "      <td>negative</td>\n",
       "      <td>This movie succeeds at being one of the most unique movies you've seen. However this comes from the fact that you can't make heads or tails of this mess. It almost seems as a series of challenges set up to determine whether or not you are willing to walk out of the movie and give up the money you just paid. If you don't want to feel slighted you'll sit through this horrible film and develop a real sense of pity for the actors involved, they've all seen better days, but then you realize they actually got paid quite a bit of money to do this and you'll lose pity for them just like you've alr...</td>\n",
       "      <td>False</td>\n",
       "    </tr>\n",
       "  </tbody>\n",
       "</table>\n",
       "</div>"
      ],
      "text/plain": [
       "      label  \\\n",
       "0  negative   \n",
       "1  positive   \n",
       "2  negative   \n",
       "3  positive   \n",
       "4  negative   \n",
       "\n",
       "                                                                                                                                                                                                                                                                                                                                                                                                                                                                                                                                                                                                                      text  \\\n",
       "0                                                                                                                                                                                                    Un-bleeping-believable! Meg Ryan doesn't even look her usual pert lovable self in this, which normally makes me forgive her shallow ticky acting schtick. Hard to believe she was the producer on this dog. Plus Kevin Kline: what kind of suicide trip has his career been on? Whoosh... Banzai!!! Finally this was directed by the guy who did Big Chill? Must be a replay of Jonestown - hollywood style. Wooofff!   \n",
       "1  This is a extremely well-made film. The acting, script and camera-work are all first-rate. The music is good, too, though it is mostly early in the film, when things are still relatively cheery. There are no really superstars in the cast, though several faces will be familiar. The entire cast does an excellent job with the script.<br /><br />But it is hard to watch, because there is no good end to a situation like the one presented. It is now fashionable to blame the British for setting Hindus and Muslims against each other, and then cruelly separating them into two countries. There is som...   \n",
       "2  Every once in a long while a movie will come along that will be so awful that I feel compelled to warn people. If I labor all my days and I can save but one soul from watching this movie, how great will be my joy.<br /><br />Where to begin my discussion of pain. For starters, there was a musical montage every five minutes. There was no character development. Every character was a stereotype. We had swearing guy, fat guy who eats donuts, goofy foreign guy, etc. The script felt as if it were being written as the movie was being shot. The production value was so incredibly low that it felt li...   \n",
       "3  Name just says it all. I watched this movie with my dad when it came out and having served in Korea he had great admiration for the man. The disappointing thing about this film is that it only concentrate on a short period of the man's life - interestingly enough the man's entire life would have made such an epic bio-pic that it is staggering to imagine the cost for production.<br /><br />Some posters elude to the flawed characteristics about the man, which are cheap shots. The theme of the movie \"Duty, Honor, Country\" are not just mere words blathered from the lips of a high-brassed offic...   \n",
       "4  This movie succeeds at being one of the most unique movies you've seen. However this comes from the fact that you can't make heads or tails of this mess. It almost seems as a series of challenges set up to determine whether or not you are willing to walk out of the movie and give up the money you just paid. If you don't want to feel slighted you'll sit through this horrible film and develop a real sense of pity for the actors involved, they've all seen better days, but then you realize they actually got paid quite a bit of money to do this and you'll lose pity for them just like you've alr...   \n",
       "\n",
       "   is_valid  \n",
       "0     False  \n",
       "1     False  \n",
       "2     False  \n",
       "3     False  \n",
       "4     False  "
      ]
     },
     "execution_count": null,
     "metadata": {},
     "output_type": "execute_result"
    }
   ],
   "source": [
    "df = pd.read_csv(path/'texts.csv')\n",
    "df.head()"
   ]
  },
  {
   "cell_type": "code",
   "execution_count": null,
   "metadata": {},
   "outputs": [
    {
     "data": {
      "text/plain": [
       "'This is a extremely well-made film. The acting, script and camera-work are all first-rate. The music is good, too, though it is mostly early in the film, when things are still relatively cheery. There are no really superstars in the cast, though several faces will be familiar. The entire cast does an excellent job with the script.<br /><br />But it is hard to watch, because there is no good end to a situation like the one presented. It is now fashionable to blame the British for setting Hindus and Muslims against each other, and then cruelly separating them into two countries. There is some merit in this view, but it\\'s also true that no one forced Hindus and Muslims in the region to mistreat each other as they did around the time of partition. It seems more likely that the British simply saw the tensions between the religions and were clever enough to exploit them to their own ends.<br /><br />The result is that there is much cruelty and inhumanity in the situation and this is very unpleasant to remember and to see on the screen. But it is never painted as a black-and-white case. There is baseness and nobility on both sides, and also the hope for change in the younger generation.<br /><br />There is redemption of a sort, in the end, when Puro has to make a hard choice between a man who has ruined her life, but also truly loved her, and her family which has disowned her, then later come looking for her. But by that point, she has no option that is without great pain for her.<br /><br />This film carries the message that both Muslims and Hindus have their grave faults, and also that both can be dignified and caring people. The reality of partition makes that realisation all the more wrenching, since there can never be real reconciliation across the India/Pakistan border. In that sense, it is similar to \"Mr & Mrs Iyer\".<br /><br />In the end, we were glad to have seen the film, even though the resolution was heartbreaking. If the UK and US could deal with their own histories of racism with this kind of frankness, they would certainly be better off.'"
      ]
     },
     "execution_count": null,
     "metadata": {},
     "output_type": "execute_result"
    }
   ],
   "source": [
    "df['text'][1]"
   ]
  },
  {
   "cell_type": "markdown",
   "metadata": {},
   "source": [
    "It contains one line per review, with the label ('negative' or 'positive'), the text and a flag to determine if it should be part of the validation set or the training set.\n",
    "\n",
    "First, we need to tokenize the texts in our dataframe, which means separate the sentences in individual tokens (often words)."
   ]
  },
  {
   "cell_type": "markdown",
   "metadata": {},
   "source": [
    "### Tokenization"
   ]
  },
  {
   "cell_type": "markdown",
   "metadata": {},
   "source": [
    "The first step of processing we make the texts go through is to split the raw sentences into words, or more exactly tokens. The easiest way to do this would be to split the string on spaces, but we can be smarter:\n",
    "\n",
    "- we need to take care of punctuation\n",
    "- some words are contractions of two different words, like isn't or don't\n",
    "- we may need to clean some parts of our texts, if there's HTML code for instance"
   ]
  },
  {
   "cell_type": "code",
   "execution_count": null,
   "metadata": {},
   "outputs": [
    {
     "data": {
      "text/html": [],
      "text/plain": [
       "<IPython.core.display.HTML object>"
      ]
     },
     "metadata": {},
     "output_type": "display_data"
    }
   ],
   "source": [
    "df_tok,count = tokenize_df(df, ['text'])"
   ]
  },
  {
   "cell_type": "code",
   "execution_count": null,
   "metadata": {},
   "outputs": [
    {
     "data": {
      "text/html": [
       "<div>\n",
       "<style scoped>\n",
       "    .dataframe tbody tr th:only-of-type {\n",
       "        vertical-align: middle;\n",
       "    }\n",
       "\n",
       "    .dataframe tbody tr th {\n",
       "        vertical-align: top;\n",
       "    }\n",
       "\n",
       "    .dataframe thead th {\n",
       "        text-align: right;\n",
       "    }\n",
       "</style>\n",
       "<table border=\"1\" class=\"dataframe\">\n",
       "  <thead>\n",
       "    <tr style=\"text-align: right;\">\n",
       "      <th></th>\n",
       "      <th>label</th>\n",
       "      <th>is_valid</th>\n",
       "      <th>text</th>\n",
       "    </tr>\n",
       "  </thead>\n",
       "  <tbody>\n",
       "    <tr>\n",
       "      <td>0</td>\n",
       "      <td>negative</td>\n",
       "      <td>False</td>\n",
       "      <td>[xxbos, xxmaj, un, -, bleeping, -, believable, !, xxmaj, meg, xxmaj, ryan, does, n't, even, look, her, usual, pert, lovable, self, in, this, ,, which, normally, makes, me, forgive, her, shallow, ticky, acting, schtick, ., xxmaj, hard, to, believe, she, was, the, producer, on, this, dog, ., xxmaj, plus, xxmaj, kevin, xxmaj, kline, :, what, kind, of, suicide, trip, has, his, career, been, on, ?, xxmaj, whoosh, …, xxmaj, banzai, xxrep, 3, !, xxmaj, finally, this, was, directed, by, the, guy, who, did, xxmaj, big, xxmaj, chill, ?, xxmaj, must, be, a, replay, of, xxmaj, jonestown, -, hollywood,...</td>\n",
       "    </tr>\n",
       "    <tr>\n",
       "      <td>1</td>\n",
       "      <td>positive</td>\n",
       "      <td>False</td>\n",
       "      <td>[xxbos, xxmaj, this, is, a, extremely, well, -, made, film, ., xxmaj, the, acting, ,, script, and, camera, -, work, are, all, first, -, rate, ., xxmaj, the, music, is, good, ,, too, ,, though, it, is, mostly, early, in, the, film, ,, when, things, are, still, relatively, cheery, ., xxmaj, there, are, no, really, superstars, in, the, cast, ,, though, several, faces, will, be, familiar, ., xxmaj, the, entire, cast, does, an, excellent, job, with, the, script, ., \\n\\n, xxmaj, but, it, is, hard, to, watch, ,, because, there, is, no, good, end, to, a, situation, like, the, one, ...]</td>\n",
       "    </tr>\n",
       "    <tr>\n",
       "      <td>2</td>\n",
       "      <td>negative</td>\n",
       "      <td>False</td>\n",
       "      <td>[xxbos, xxmaj, every, once, in, a, long, while, a, movie, will, come, along, that, will, be, so, awful, that, i, feel, compelled, to, warn, people, ., xxmaj, if, i, labor, all, my, days, and, i, can, save, but, one, soul, from, watching, this, movie, ,, how, great, will, be, my, joy, ., \\n\\n, xxmaj, where, to, begin, my, discussion, of, pain, ., xxmaj, for, starters, ,, there, was, a, musical, montage, every, five, minutes, ., xxmaj, there, was, no, character, development, ., xxmaj, every, character, was, a, stereotype, ., xxmaj, we, had, swearing, guy, ,, fat, guy, who, eats, donuts, ...]</td>\n",
       "    </tr>\n",
       "    <tr>\n",
       "      <td>3</td>\n",
       "      <td>positive</td>\n",
       "      <td>False</td>\n",
       "      <td>[xxbos, xxmaj, name, just, says, it, all, ., i, watched, this, movie, with, my, dad, when, it, came, out, and, having, served, in, xxmaj, korea, he, had, great, admiration, for, the, man, ., xxmaj, the, disappointing, thing, about, this, film, is, that, it, only, concentrate, on, a, short, period, of, the, man, 's, life, -, interestingly, enough, the, man, 's, entire, life, would, have, made, such, an, epic, bio, -, pic, that, it, is, staggering, to, imagine, the, cost, for, production, ., \\n\\n, xxmaj, some, posters, elude, to, the, flawed, characteristics, about, the, man, ,, which, are, ...</td>\n",
       "    </tr>\n",
       "    <tr>\n",
       "      <td>4</td>\n",
       "      <td>negative</td>\n",
       "      <td>False</td>\n",
       "      <td>[xxbos, xxmaj, this, movie, succeeds, at, being, one, of, the, most, unique, movies, you, 've, seen, ., xxmaj, however, this, comes, from, the, fact, that, you, ca, n't, make, heads, or, tails, of, this, mess, ., xxmaj, it, almost, seems, as, a, series, of, challenges, set, up, to, determine, whether, or, not, you, are, willing, to, walk, out, of, the, movie, and, give, up, the, money, you, just, paid, ., xxmaj, if, you, do, n't, want, to, feel, slighted, you, 'll, sit, through, this, horrible, film, and, develop, a, real, sense, of, pity, for, the, actors, involved, ,, they, 've, ...]</td>\n",
       "    </tr>\n",
       "  </tbody>\n",
       "</table>\n",
       "</div>"
      ],
      "text/plain": [
       "      label  is_valid  \\\n",
       "0  negative     False   \n",
       "1  positive     False   \n",
       "2  negative     False   \n",
       "3  positive     False   \n",
       "4  negative     False   \n",
       "\n",
       "                                                                                                                                                                                                                                                                                                                                                                                                                                                                                                                                                                                                                      text  \n",
       "0  [xxbos, xxmaj, un, -, bleeping, -, believable, !, xxmaj, meg, xxmaj, ryan, does, n't, even, look, her, usual, pert, lovable, self, in, this, ,, which, normally, makes, me, forgive, her, shallow, ticky, acting, schtick, ., xxmaj, hard, to, believe, she, was, the, producer, on, this, dog, ., xxmaj, plus, xxmaj, kevin, xxmaj, kline, :, what, kind, of, suicide, trip, has, his, career, been, on, ?, xxmaj, whoosh, …, xxmaj, banzai, xxrep, 3, !, xxmaj, finally, this, was, directed, by, the, guy, who, did, xxmaj, big, xxmaj, chill, ?, xxmaj, must, be, a, replay, of, xxmaj, jonestown, -, hollywood,...  \n",
       "1                 [xxbos, xxmaj, this, is, a, extremely, well, -, made, film, ., xxmaj, the, acting, ,, script, and, camera, -, work, are, all, first, -, rate, ., xxmaj, the, music, is, good, ,, too, ,, though, it, is, mostly, early, in, the, film, ,, when, things, are, still, relatively, cheery, ., xxmaj, there, are, no, really, superstars, in, the, cast, ,, though, several, faces, will, be, familiar, ., xxmaj, the, entire, cast, does, an, excellent, job, with, the, script, ., \\n\\n, xxmaj, but, it, is, hard, to, watch, ,, because, there, is, no, good, end, to, a, situation, like, the, one, ...]  \n",
       "2     [xxbos, xxmaj, every, once, in, a, long, while, a, movie, will, come, along, that, will, be, so, awful, that, i, feel, compelled, to, warn, people, ., xxmaj, if, i, labor, all, my, days, and, i, can, save, but, one, soul, from, watching, this, movie, ,, how, great, will, be, my, joy, ., \\n\\n, xxmaj, where, to, begin, my, discussion, of, pain, ., xxmaj, for, starters, ,, there, was, a, musical, montage, every, five, minutes, ., xxmaj, there, was, no, character, development, ., xxmaj, every, character, was, a, stereotype, ., xxmaj, we, had, swearing, guy, ,, fat, guy, who, eats, donuts, ...]  \n",
       "3  [xxbos, xxmaj, name, just, says, it, all, ., i, watched, this, movie, with, my, dad, when, it, came, out, and, having, served, in, xxmaj, korea, he, had, great, admiration, for, the, man, ., xxmaj, the, disappointing, thing, about, this, film, is, that, it, only, concentrate, on, a, short, period, of, the, man, 's, life, -, interestingly, enough, the, man, 's, entire, life, would, have, made, such, an, epic, bio, -, pic, that, it, is, staggering, to, imagine, the, cost, for, production, ., \\n\\n, xxmaj, some, posters, elude, to, the, flawed, characteristics, about, the, man, ,, which, are, ...  \n",
       "4         [xxbos, xxmaj, this, movie, succeeds, at, being, one, of, the, most, unique, movies, you, 've, seen, ., xxmaj, however, this, comes, from, the, fact, that, you, ca, n't, make, heads, or, tails, of, this, mess, ., xxmaj, it, almost, seems, as, a, series, of, challenges, set, up, to, determine, whether, or, not, you, are, willing, to, walk, out, of, the, movie, and, give, up, the, money, you, just, paid, ., xxmaj, if, you, do, n't, want, to, feel, slighted, you, 'll, sit, through, this, horrible, film, and, develop, a, real, sense, of, pity, for, the, actors, involved, ,, they, 've, ...]  "
      ]
     },
     "execution_count": null,
     "metadata": {},
     "output_type": "execute_result"
    }
   ],
   "source": [
    "df_tok.head()"
   ]
  },
  {
   "cell_type": "markdown",
   "metadata": {},
   "source": [
    "The texts are truncated at 100 tokens for more readability. We can see that it did more than just split on space and punctuation symbols: \n",
    "- the \"'s\" are grouped together in one token\n",
    "- the contractions are separated like this: \"did\", \"n't\"\n",
    "- content has been cleaned for any HTML symbol and lower cased\n",
    "- there are several special tokens (all those that begin by xx), to replace unknown tokens (see below) or to introduce different text fields (here we only have one)."
   ]
  },
  {
   "cell_type": "markdown",
   "metadata": {},
   "source": [
    "### Numericalization"
   ]
  },
  {
   "cell_type": "markdown",
   "metadata": {},
   "source": [
    "Once we have extracted tokens from our texts, we convert to integers by creating a list of all the words used. We only keep the ones that appear at least twice with a maximum vocabulary size of 60,000 (by default) and replace the ones that don't make the cut by the unknown token `UNK`.\n",
    "\n",
    "This is done automatically behind the scenes if we use a facotry method of `TextDataBunch`."
   ]
  },
  {
   "cell_type": "code",
   "execution_count": null,
   "metadata": {},
   "outputs": [],
   "source": [
    "dbunch_lm = TextDataBunch.from_df(df_tok, vocab=make_vocab(count), text_col='text', path=path, is_lm=True)"
   ]
  },
  {
   "cell_type": "markdown",
   "metadata": {},
   "source": [
    "And if we look at what a what's in our datasets, we'll see the numericalized text as a representation:"
   ]
  },
  {
   "cell_type": "code",
   "execution_count": null,
   "metadata": {},
   "outputs": [
    {
     "data": {
      "text/plain": [
       "tensor([   2,    8,    9,  150,    8, 1846,    8, 3248,   29,   19,   42,  137,\n",
       "          52,  277,   11,    8,   17,   23,   50,   13,   72, 1124,   28,   13,\n",
       "         264,   24,  214,   11,   19,   80,  127,   17,   23,   13,  131,  223,\n",
       "          22, 1181,   22,   10,   50,   31,   13,    0, 1317,   14,    8, 3828,\n",
       "           8, 2807,   23, 1847,   10,   57,  153,   11,    8,   45,   42,  680,\n",
       "          13,  113,  828,   14,    8, 1846,   23,  132,   10,   30,   19,  990,\n",
       "         956,    8,    0,    8,    0,   13,  223,   11,    8,   80,   58,   19,\n",
       "          42,  302,  128, 2218,   12,  260,   48,    8, 1063,    8,    0,    8,\n",
       "          19,  179,   39,  704,   14,   21,   32,   10,  175,    9, 2024,   11,\n",
       "           8,  991,  804,   14,   21,   86,   56,    8, 1846,   12,   61, 1474,\n",
       "          11,   19,   89,   39,  330,   85,  992,   52,  348,   10,  100,   14,\n",
       "           9,   95,   29,   51,    0,   11,    8,   52,   19,  229,   42,    0,\n",
       "          21,   29,   59,   13,  131,   11,    8,   30,   58,   33,   50,    9,\n",
       "        2218,   12,  106,    0,   56,    8, 1846,    8, 3248,   10,   33,  148,\n",
       "         468,   88,   21,   44,   55,  217,   37, 1125,   28,   13,  606,   24,\n",
       "          70,   79])"
      ]
     },
     "execution_count": null,
     "metadata": {},
     "output_type": "execute_result"
    }
   ],
   "source": [
    "dbunch_lm.train_ds[0][0]"
   ]
  },
  {
   "cell_type": "markdown",
   "metadata": {},
   "source": [
    "The correspondence is stored in the vocab attribute of our `DataBunch`"
   ]
  },
  {
   "cell_type": "code",
   "execution_count": null,
   "metadata": {},
   "outputs": [
    {
     "data": {
      "text/plain": [
       "['xxunk',\n",
       " 'xxpad',\n",
       " 'xxbos',\n",
       " 'xxeos',\n",
       " 'xxfld',\n",
       " 'xxrep',\n",
       " 'xxwrep',\n",
       " 'xxup',\n",
       " 'xxmaj',\n",
       " 'the',\n",
       " ',',\n",
       " '.',\n",
       " 'and',\n",
       " 'a',\n",
       " 'of',\n",
       " 'to',\n",
       " 'is',\n",
       " 'it',\n",
       " 'in',\n",
       " 'i']"
      ]
     },
     "execution_count": null,
     "metadata": {},
     "output_type": "execute_result"
    }
   ],
   "source": [
    "dbunch_lm.vocab[0][:20]"
   ]
  },
  {
   "cell_type": "markdown",
   "metadata": {},
   "source": [
    "### With the data block API"
   ]
  },
  {
   "cell_type": "markdown",
   "metadata": {},
   "source": [
    "We can use the data block API with NLP and have a lot more flexibility than what the default factory methods offer. In the previous example for instance, the data was randomly split between train and validation instead of reading the third column of the csv.\n",
    "\n",
    "With the data block API though, we have to manually call the tokenize and numericalize steps. This allows more flexibility, and if you're not using the defaults from fastai, the various arguments to pass will appear in the step they're revelant, so it'll be more readable."
   ]
  },
  {
   "cell_type": "code",
   "execution_count": null,
   "metadata": {},
   "outputs": [],
   "source": [
    "imdb_lm = DataBlock(blocks=(TextBlock(make_vocab(count), is_lm=True),),\n",
    "                    get_x=ColReader('text'),\n",
    "                    splitter=RandomSplitter())\n",
    "\n",
    "dbunch_lm = imdb_lm.databunch(df_tok)"
   ]
  },
  {
   "cell_type": "markdown",
   "metadata": {},
   "source": [
    "## Language model"
   ]
  },
  {
   "cell_type": "markdown",
   "metadata": {},
   "source": [
    "Note that language models can use a lot of GPU, so you may need to decrease batchsize here."
   ]
  },
  {
   "cell_type": "code",
   "execution_count": null,
   "metadata": {},
   "outputs": [],
   "source": [
    "bs=128"
   ]
  },
  {
   "cell_type": "markdown",
   "metadata": {},
   "source": [
    "Now let's grab the full dataset for what follows."
   ]
  },
  {
   "cell_type": "code",
   "execution_count": null,
   "metadata": {},
   "outputs": [
    {
     "data": {
      "text/plain": [
       "(#13) [/home/sgugger/.fastai/data/imdb/models,/home/sgugger/.fastai/data/imdb/train,/home/sgugger/.fastai/data/imdb/data_lm_sp.pkl,/home/sgugger/.fastai/data/imdb/imdb.vocab,/home/sgugger/.fastai/data/imdb/tmp_lm,/home/sgugger/.fastai/data/imdb/data_lm.pkl,/home/sgugger/.fastai/data/imdb/test,/home/sgugger/.fastai/data/imdb/tmp_clas,/home/sgugger/.fastai/data/imdb/README,/home/sgugger/.fastai/data/imdb/data_clas_sp.pkl...]"
      ]
     },
     "execution_count": null,
     "metadata": {},
     "output_type": "execute_result"
    }
   ],
   "source": [
    "path = untar_data(URLs.IMDB)\n",
    "path.ls()"
   ]
  },
  {
   "cell_type": "code",
   "execution_count": null,
   "metadata": {},
   "outputs": [
    {
     "data": {
      "text/plain": [
       "(#4) [/home/sgugger/.fastai/data/imdb/train/labeledBow.feat,/home/sgugger/.fastai/data/imdb/train/unsupBow.feat,/home/sgugger/.fastai/data/imdb/train/neg,/home/sgugger/.fastai/data/imdb/train/pos]"
      ]
     },
     "execution_count": null,
     "metadata": {},
     "output_type": "execute_result"
    }
   ],
   "source": [
    "(path/'train').ls()"
   ]
  },
  {
   "cell_type": "markdown",
   "metadata": {},
   "source": [
    "The reviews are in a training and test set following an imagenet structure. The only difference is that there is an `unsup` folder on top of `train` and `test` that contains the unlabelled data.\n",
    "\n",
    "We're not going to train a model that classifies the reviews from scratch. Like in computer vision, we'll use a model pretrained on a bigger dataset (a cleaned subset of wikipedia called [wikitext-103](https://einstein.ai/research/blog/the-wikitext-long-term-dependency-language-modeling-dataset)). That model has been trained to guess what the next word is, its input being all the previous words. It has a recurrent structure and a hidden state that is updated each time it sees a new word. This hidden state thus contains information about the sentence up to that point.\n",
    "\n",
    "We are going to use that 'knowledge' of the English language to build our classifier, but first, like for computer vision, we need to fine-tune the pretrained model to our particular dataset. Because the English of the reviews left by people on IMDB isn't the same as the English of wikipedia, we'll need to adjust the parameters of our model by a little bit. Plus there might be some words that would be extremely common in the reviews dataset but would be barely present in wikipedia, and therefore might not be part of the vocabulary the model was trained on."
   ]
  },
  {
   "cell_type": "markdown",
   "metadata": {},
   "source": [
    "This is where the unlabelled data is going to be useful to us, as we can use it to fine-tune our model. Let's create our data object with the data block API (next line takes a few minutes)."
   ]
  },
  {
   "cell_type": "code",
   "execution_count": null,
   "metadata": {},
   "outputs": [],
   "source": [
    "#Uncomment for one-time tokenization\n",
    "#tokenize_folder(path)"
   ]
  },
  {
   "cell_type": "code",
   "execution_count": null,
   "metadata": {},
   "outputs": [],
   "source": [
    "path = path.parent/'imdb_tok'"
   ]
  },
  {
   "cell_type": "code",
   "execution_count": null,
   "metadata": {},
   "outputs": [],
   "source": [
    "vocab = make_vocab((path/'counter.pkl').load())"
   ]
  },
  {
   "cell_type": "code",
   "execution_count": null,
   "metadata": {},
   "outputs": [],
   "source": [
    "imdb_lm = DataBlock(blocks=(TextBlock(vocab, is_lm=True),),\n",
    "                    get_x=read_tokenized_file,\n",
    "                    get_items=partial(get_text_files, folders=['train', 'test', 'unsup']),\n",
    "                    splitter=RandomSplitter(0.1))\n",
    "\n",
    "dbunch_lm = imdb_lm.databunch(path, path=path, bs=bs, seq_len=80)"
   ]
  },
  {
   "cell_type": "markdown",
   "metadata": {},
   "source": [
    "We have to use a special kind of `TextDataBunch` for the language model, that ignores the labels (that's why we put 0 everywhere), will shuffle the texts at each epoch before concatenating them all together (only for training, we don't shuffle for the validation set) and will send batches that read that text in order with targets that are the next word in the sentence.\n",
    "\n",
    "The line before being a bit long, we want to load quickly the final ids by using the following cell."
   ]
  },
  {
   "cell_type": "code",
   "execution_count": null,
   "metadata": {},
   "outputs": [
    {
     "data": {
      "text/html": [
       "<table border=\"1\" class=\"dataframe\">\n",
       "  <thead>\n",
       "    <tr style=\"text-align: right;\">\n",
       "      <th></th>\n",
       "      <th>text</th>\n",
       "      <th>text_</th>\n",
       "    </tr>\n",
       "  </thead>\n",
       "  <tbody>\n",
       "    <tr>\n",
       "      <th>0</th>\n",
       "      <td>xxbos xxmaj clint xxmaj eastwood stars as xxmaj wes xxmaj block a police officer who hunts a serial killer who targets prostitutes who he handcuffs . xxmaj however xxmaj eastwood finds it hard to be a police officer in the red light district because his urges get the better of him . xxmaj some good acting from xxmaj eastwood and xxmaj bujold elevate this one above mediocrity , but some interest still remains especially since the serial killer plot angle</td>\n",
       "      <td>xxmaj clint xxmaj eastwood stars as xxmaj wes xxmaj block a police officer who hunts a serial killer who targets prostitutes who he handcuffs . xxmaj however xxmaj eastwood finds it hard to be a police officer in the red light district because his urges get the better of him . xxmaj some good acting from xxmaj eastwood and xxmaj bujold elevate this one above mediocrity , but some interest still remains especially since the serial killer plot angle offers</td>\n",
       "    </tr>\n",
       "    <tr>\n",
       "      <th>1</th>\n",
       "      <td>it up several notches - you do n't mess with xxmaj mossad unless you have a death wish . xxmaj cote clearly realizes this and plays \" officer xxmaj david \" with that in mind . \\n\\n xxmaj david mccallum , xxmaj doctor xxmaj donald \" ducky \" xxmaj mallard , is always a joy to see on the screen and i love the ' quirks ' xxmaj david has given xxmaj ducky . i suspect there is a history</td>\n",
       "      <td>up several notches - you do n't mess with xxmaj mossad unless you have a death wish . xxmaj cote clearly realizes this and plays \" officer xxmaj david \" with that in mind . \\n\\n xxmaj david mccallum , xxmaj doctor xxmaj donald \" ducky \" xxmaj mallard , is always a joy to see on the screen and i love the ' quirks ' xxmaj david has given xxmaj ducky . i suspect there is a history behind</td>\n",
       "    </tr>\n",
       "    <tr>\n",
       "      <th>2</th>\n",
       "      <td>and when they were n't on the screen together i found myself waiting for my next fix of those two crazy guys in action . xxmaj in xxmaj deaden the bad guys are bad , and the good guys are bad and the vengeance is served on a platter along with your balls . xxmaj so do yourself a favor and let xxmaj deaden take you back to a time when action flicks ruled ! xxbos xxmaj yes , i</td>\n",
       "      <td>when they were n't on the screen together i found myself waiting for my next fix of those two crazy guys in action . xxmaj in xxmaj deaden the bad guys are bad , and the good guys are bad and the vengeance is served on a platter along with your balls . xxmaj so do yourself a favor and let xxmaj deaden take you back to a time when action flicks ruled ! xxbos xxmaj yes , i saw</td>\n",
       "    </tr>\n",
       "    <tr>\n",
       "      <th>3</th>\n",
       "      <td>elements were well meshed and it was obvious that xxmaj duncan xxmaj rogers had chosen his designers and crew well . xxmaj but it was the story and it 's delivery that truly made this short shine . xxmaj duncan xxmaj rogers ' tight script was just what this evening of \" shorts \" needed . xxmaj it neither meandered , as several offerings did , or preached to us . xxmaj the xxmaj reader was simple story telling in</td>\n",
       "      <td>were well meshed and it was obvious that xxmaj duncan xxmaj rogers had chosen his designers and crew well . xxmaj but it was the story and it 's delivery that truly made this short shine . xxmaj duncan xxmaj rogers ' tight script was just what this evening of \" shorts \" needed . xxmaj it neither meandered , as several offerings did , or preached to us . xxmaj the xxmaj reader was simple story telling in it</td>\n",
       "    </tr>\n",
       "    <tr>\n",
       "      <th>4</th>\n",
       "      <td>few left before i get into the 1920s i decided to jump ahead and watch this one , which is reportedly the last true silent film that xxmaj chaplin made , since there were elements of xxmaj city xxmaj lights and especially xxmaj modern xxmaj times that were clearly moving toward the sound era . xxmaj the first thing the struck my is how much better looking the film is , and the second thing that struck me is that</td>\n",
       "      <td>left before i get into the 1920s i decided to jump ahead and watch this one , which is reportedly the last true silent film that xxmaj chaplin made , since there were elements of xxmaj city xxmaj lights and especially xxmaj modern xxmaj times that were clearly moving toward the sound era . xxmaj the first thing the struck my is how much better looking the film is , and the second thing that struck me is that ,</td>\n",
       "    </tr>\n",
       "    <tr>\n",
       "      <th>5</th>\n",
       "      <td>at various intervals . xxmaj the stand - out performance is that of the insane daughter , played by the extraordinary and outlandishly sexy xxmaj michele xxmaj valley . xxmaj panos xxmaj thanassoulis , as xxmaj sling , has virtually no dialog , but makes his mark in a pivotal but surprisingly neutral role . xxmaj black and white cinematography by xxmaj xxunk xxmaj xxunk is stunning , as is the splendidly rich production . \" singapore xxmaj sling \"</td>\n",
       "      <td>various intervals . xxmaj the stand - out performance is that of the insane daughter , played by the extraordinary and outlandishly sexy xxmaj michele xxmaj valley . xxmaj panos xxmaj thanassoulis , as xxmaj sling , has virtually no dialog , but makes his mark in a pivotal but surprisingly neutral role . xxmaj black and white cinematography by xxmaj xxunk xxmaj xxunk is stunning , as is the splendidly rich production . \" singapore xxmaj sling \" is</td>\n",
       "    </tr>\n",
       "    <tr>\n",
       "      <th>6</th>\n",
       "      <td>xxmaj david by telling it like it is : \" … love is magical comfort food for the weak and uneducated ; makes you feel all warm and relevant but in the end , love leaves you weak , dependent - and fat . \" xxmaj playing xxmaj connor 's brother xxmaj paul with no conviction is xxmaj breckin xxmaj meyer ( so beige his name should n't have capital letters ) , who is marrying a wildly retarded woman</td>\n",
       "      <td>david by telling it like it is : \" … love is magical comfort food for the weak and uneducated ; makes you feel all warm and relevant but in the end , love leaves you weak , dependent - and fat . \" xxmaj playing xxmaj connor 's brother xxmaj paul with no conviction is xxmaj breckin xxmaj meyer ( so beige his name should n't have capital letters ) , who is marrying a wildly retarded woman (</td>\n",
       "    </tr>\n",
       "    <tr>\n",
       "      <th>7</th>\n",
       "      <td>willingness of xxmaj abu to put himself in jeopardy ( repeatedly ) for the clueless , love - struck deposed king is equally improbable . xxmaj but to quibble about such things while accepting flying mechanical horses , fifty - foot genies and the xxmaj temple of the all - seeing xxmaj eye would be fatuous in the extreme . xxmaj the satisfaction of seeing the prophecy fulfilled at the movie 's climax is tremendous , as is the final</td>\n",
       "      <td>of xxmaj abu to put himself in jeopardy ( repeatedly ) for the clueless , love - struck deposed king is equally improbable . xxmaj but to quibble about such things while accepting flying mechanical horses , fifty - foot genies and the xxmaj temple of the all - seeing xxmaj eye would be fatuous in the extreme . xxmaj the satisfaction of seeing the prophecy fulfilled at the movie 's climax is tremendous , as is the final shot</td>\n",
       "    </tr>\n",
       "    <tr>\n",
       "      <th>8</th>\n",
       "      <td>remarkable talent . xxmaj i 'm so glad to see that so many other people have such a fond memory of seeing this . xxmaj naturally , it 's not available on any media ! xxmaj it would be perfect to show on xxmaj lifetime , but because of its age , they wo n't . xxmaj you never see anything there before the mid - eighties . i can still remember what made me watch it when it was</td>\n",
       "      <td>talent . xxmaj i 'm so glad to see that so many other people have such a fond memory of seeing this . xxmaj naturally , it 's not available on any media ! xxmaj it would be perfect to show on xxmaj lifetime , but because of its age , they wo n't . xxmaj you never see anything there before the mid - eighties . i can still remember what made me watch it when it was first</td>\n",
       "    </tr>\n",
       "  </tbody>\n",
       "</table>"
      ],
      "text/plain": [
       "<IPython.core.display.HTML object>"
      ]
     },
     "metadata": {},
     "output_type": "display_data"
    }
   ],
   "source": [
    "dbunch_lm.show_batch()"
   ]
  },
  {
   "cell_type": "markdown",
   "metadata": {},
   "source": [
    "We can then put this in a learner object very easily with a model loaded with the pretrained weights. They'll be downloaded the first time you'll execute the following line and stored in `~/.fastai/models/` (or elsewhere if you specified different paths in your config file)."
   ]
  },
  {
   "cell_type": "code",
   "execution_count": null,
   "metadata": {},
   "outputs": [
    {
     "data": {
      "text/plain": [
       "60008"
      ]
     },
     "execution_count": null,
     "metadata": {},
     "output_type": "execute_result"
    }
   ],
   "source": [
    "len(dbunch_lm.vocab)"
   ]
  },
  {
   "cell_type": "code",
   "execution_count": null,
   "metadata": {},
   "outputs": [],
   "source": [
    "learn = language_model_learner(dbunch_lm, AWD_LSTM, vocab, drop_mult=0.3, metrics=[accuracy, Perplexity()]).to_fp16()"
   ]
  },
  {
   "cell_type": "code",
   "execution_count": null,
   "metadata": {},
   "outputs": [
    {
     "data": {
      "text/html": [],
      "text/plain": [
       "<IPython.core.display.HTML object>"
      ]
     },
     "metadata": {},
     "output_type": "display_data"
    },
    {
     "name": "stdout",
     "output_type": "stream",
     "text": [
      "LR Finder is complete, type {learner_name}.recorder.plot() to see the graph.\n"
     ]
    }
   ],
   "source": [
    "learn.lr_find()"
   ]
  },
  {
   "cell_type": "code",
   "execution_count": null,
   "metadata": {},
   "outputs": [
    {
     "data": {
      "image/png": "[encoded data removed]",
      "text/plain": [
       "<Figure size 432x288 with 1 Axes>"
      ]
     },
     "metadata": {
      "needs_background": "light"
     },
     "output_type": "display_data"
    }
   ],
   "source": [
    "learn.recorder.plot(skip_end=15)"
   ]
  },
  {
   "cell_type": "code",
   "execution_count": null,
   "metadata": {},
   "outputs": [
    {
     "data": {
      "text/html": [
       "<table border=\"1\" class=\"dataframe\">\n",
       "  <thead>\n",
       "    <tr style=\"text-align: left;\">\n",
       "      <th>epoch</th>\n",
       "      <th>train_loss</th>\n",
       "      <th>valid_loss</th>\n",
       "      <th>accuracy</th>\n",
       "      <th>perplexity</th>\n",
       "      <th>time</th>\n",
       "    </tr>\n",
       "  </thead>\n",
       "  <tbody>\n",
       "    <tr>\n",
       "      <td>0</td>\n",
       "      <td>4.121422</td>\n",
       "      <td>3.914404</td>\n",
       "      <td>0.299510</td>\n",
       "      <td>50.119186</td>\n",
       "      <td>07:11</td>\n",
       "    </tr>\n",
       "  </tbody>\n",
       "</table>"
      ],
      "text/plain": [
       "<IPython.core.display.HTML object>"
      ]
     },
     "metadata": {},
     "output_type": "display_data"
    }
   ],
   "source": [
    "learn.fit_one_cycle(1, 2e-2, moms=(0.8,0.7,0.8))"
   ]
  },
  {
   "cell_type": "code",
   "execution_count": null,
   "metadata": {},
   "outputs": [],
   "source": [
    "learn.save('fit_head')"
   ]
  },
  {
   "cell_type": "code",
   "execution_count": null,
   "metadata": {},
   "outputs": [],
   "source": [
    "learn.load('fit_head');"
   ]
  },
  {
   "cell_type": "markdown",
   "metadata": {},
   "source": [
    "To complete the fine-tuning, we can then unfeeze and launch a new training."
   ]
  },
  {
   "cell_type": "code",
   "execution_count": null,
   "metadata": {},
   "outputs": [],
   "source": [
    "learn.unfreeze()"
   ]
  },
  {
   "cell_type": "code",
   "execution_count": null,
   "metadata": {},
   "outputs": [
    {
     "data": {
      "text/html": [
       "<table border=\"1\" class=\"dataframe\">\n",
       "  <thead>\n",
       "    <tr style=\"text-align: left;\">\n",
       "      <th>epoch</th>\n",
       "      <th>train_loss</th>\n",
       "      <th>valid_loss</th>\n",
       "      <th>accuracy</th>\n",
       "      <th>perplexity</th>\n",
       "      <th>time</th>\n",
       "    </tr>\n",
       "  </thead>\n",
       "  <tbody>\n",
       "    <tr>\n",
       "      <td>0</td>\n",
       "      <td>3.892977</td>\n",
       "      <td>3.774952</td>\n",
       "      <td>0.316564</td>\n",
       "      <td>43.595413</td>\n",
       "      <td>07:37</td>\n",
       "    </tr>\n",
       "    <tr>\n",
       "      <td>1</td>\n",
       "      <td>3.814780</td>\n",
       "      <td>3.715484</td>\n",
       "      <td>0.323794</td>\n",
       "      <td>41.078480</td>\n",
       "      <td>07:41</td>\n",
       "    </tr>\n",
       "    <tr>\n",
       "      <td>2</td>\n",
       "      <td>3.749609</td>\n",
       "      <td>3.664291</td>\n",
       "      <td>0.329369</td>\n",
       "      <td>39.028442</td>\n",
       "      <td>07:41</td>\n",
       "    </tr>\n",
       "    <tr>\n",
       "      <td>3</td>\n",
       "      <td>3.685419</td>\n",
       "      <td>3.629105</td>\n",
       "      <td>0.333663</td>\n",
       "      <td>37.679073</td>\n",
       "      <td>07:40</td>\n",
       "    </tr>\n",
       "    <tr>\n",
       "      <td>4</td>\n",
       "      <td>3.618381</td>\n",
       "      <td>3.603617</td>\n",
       "      <td>0.336755</td>\n",
       "      <td>36.730846</td>\n",
       "      <td>07:41</td>\n",
       "    </tr>\n",
       "    <tr>\n",
       "      <td>5</td>\n",
       "      <td>3.567165</td>\n",
       "      <td>3.585856</td>\n",
       "      <td>0.338791</td>\n",
       "      <td>36.084221</td>\n",
       "      <td>07:46</td>\n",
       "    </tr>\n",
       "    <tr>\n",
       "      <td>6</td>\n",
       "      <td>3.503764</td>\n",
       "      <td>3.575684</td>\n",
       "      <td>0.340408</td>\n",
       "      <td>35.719028</td>\n",
       "      <td>07:47</td>\n",
       "    </tr>\n",
       "    <tr>\n",
       "      <td>7</td>\n",
       "      <td>3.453132</td>\n",
       "      <td>3.569989</td>\n",
       "      <td>0.341550</td>\n",
       "      <td>35.516193</td>\n",
       "      <td>07:49</td>\n",
       "    </tr>\n",
       "    <tr>\n",
       "      <td>8</td>\n",
       "      <td>3.409692</td>\n",
       "      <td>3.569814</td>\n",
       "      <td>0.341963</td>\n",
       "      <td>35.509995</td>\n",
       "      <td>07:56</td>\n",
       "    </tr>\n",
       "    <tr>\n",
       "      <td>9</td>\n",
       "      <td>3.384848</td>\n",
       "      <td>3.572026</td>\n",
       "      <td>0.341847</td>\n",
       "      <td>35.588623</td>\n",
       "      <td>07:58</td>\n",
       "    </tr>\n",
       "  </tbody>\n",
       "</table>"
      ],
      "text/plain": [
       "<IPython.core.display.HTML object>"
      ]
     },
     "metadata": {},
     "output_type": "display_data"
    }
   ],
   "source": [
    "learn.fit_one_cycle(10, 2e-3, moms=(0.8,0.7,0.8))"
   ]
  },
  {
   "cell_type": "code",
   "execution_count": null,
   "metadata": {},
   "outputs": [],
   "source": [
    "learn.save('fine_tuned')"
   ]
  },
  {
   "cell_type": "markdown",
   "metadata": {},
   "source": [
    "How good is our model? Well let's try to see what it predicts after a few given words."
   ]
  },
  {
   "cell_type": "code",
   "execution_count": null,
   "metadata": {},
   "outputs": [],
   "source": [
    "learn.load('fine_tuned');"
   ]
  },
  {
   "cell_type": "code",
   "execution_count": null,
   "metadata": {},
   "outputs": [],
   "source": [
    "#TODO\n",
    "#TEXT = \"I liked this movie because\"\n",
    "#N_WORDS = 40\n",
    "#N_SENTENCES = 2"
   ]
  },
  {
   "cell_type": "code",
   "execution_count": null,
   "metadata": {},
   "outputs": [
    {
     "name": "stdout",
     "output_type": "stream",
     "text": [
      "I liked this movie because of the cool scenery and the high level of xxmaj british hunting . xxmaj the only thing this movie has going for it is the horrible acting and no script . xxmaj the movie was a big disappointment . xxmaj\n",
      "I liked this movie because it was one of the few movies that made me laugh so hard i did n't like it . xxmaj it was a hilarious film and it was very entertaining . \n",
      "\n",
      " xxmaj the acting was great , i 'm\n"
     ]
    }
   ],
   "source": [
    "#print(\"\\n\".join(learn.predict(TEXT, N_WORDS, temperature=0.75) for _ in range(N_SENTENCES)))"
   ]
  },
  {
   "cell_type": "markdown",
   "metadata": {},
   "source": [
    "We have to save not only the model, but also its encoder, the part that's responsible for creating and updating the hidden state. For the next part, we don't care about the part that tries to guess the next word."
   ]
  },
  {
   "cell_type": "code",
   "execution_count": null,
   "metadata": {},
   "outputs": [],
   "source": [
    "learn.save_encoder('fine_tuned_enc')"
   ]
  },
  {
   "cell_type": "markdown",
   "metadata": {},
   "source": [
    "## Classifier"
   ]
  },
  {
   "cell_type": "markdown",
   "metadata": {},
   "source": [
    "Now, we'll create a new data object that only grabs the labelled data and keeps those labels. Again, this line takes a bit of time."
   ]
  },
  {
   "cell_type": "code",
   "execution_count": null,
   "metadata": {},
   "outputs": [],
   "source": [
    "imdb_clas = DataBlock(blocks=(TextBlock(vocab),CategoryBlock),\n",
    "                      get_x=read_tokenized_file,\n",
    "                      get_y = parent_label,\n",
    "                      get_items=partial(get_text_files, folders=['train', 'test']),\n",
    "                      splitter=GrandparentSplitter(valid_name='test'))\n",
    "\n",
    "dbunch_clas = imdb_clas.databunch(path, path=path, bs=bs, seq_len=80)"
   ]
  },
  {
   "cell_type": "code",
   "execution_count": null,
   "metadata": {},
   "outputs": [
    {
     "data": {
      "text/html": [
       "<table border=\"1\" class=\"dataframe\">\n",
       "  <thead>\n",
       "    <tr style=\"text-align: right;\">\n",
       "      <th></th>\n",
       "      <th>text</th>\n",
       "      <th>category</th>\n",
       "    </tr>\n",
       "  </thead>\n",
       "  <tbody>\n",
       "    <tr>\n",
       "      <th>0</th>\n",
       "      <td>xxbos * * attention xxmaj spoilers * * \\n\\n xxmaj first of all , let me say that xxmaj rob xxmaj roy is one of the best films of the 90 's . xxmaj it was an amazing achievement for all those involved , especially the acting of xxmaj liam xxmaj neeson , xxmaj jessica xxmaj lange , xxmaj john xxmaj hurt , xxmaj brian xxmaj cox , and xxmaj tim xxmaj roth . xxmaj michael xxmaj canton xxmaj jones painted a wonderful portrait of the honor and dishonor that men can represent in themselves . xxmaj but alas … \\n\\n it constantly , and unfairly gets compared to \" braveheart \" . xxmaj these are two entirely different films , probably only similar in the fact that they are both about xxmaj scots in historical xxmaj scotland . xxmaj yet , this comparison frequently bothers me because it seems to be almost assumed that \" braveheart \" is a better film than \" rob xxmaj roy \" . i like \" braveheart \" a lot , but the idea of comparing it to \" rob xxmaj roy \" is a little insulting to me . xxmaj to put quite simply , i love \" braveheart \" , but it is a pale shadow to how much i love \" rob xxmaj roy \" . xxmaj here are my particular reasons … \\n\\n xxunk xxmaj roy \" is about real people . \\n\\n xxmaj let 's face it , the xxmaj william xxmaj wallace in \" braveheart \" is not a real person . xxmaj he 's a legend , a martyr , a larger than life figurehead . xxmaj because of this depiction , he is also a perfect person , never doing wrong , and basically showing his xxmaj scot countrymen to the promised land . xxmaj when he finally does fail , it is not to his fault . xxmaj like xxmaj jesus , he is betrayed by the very people he trusted most . xxmaj he even goes through the worst kind of torture because he wants freedom so much . \\n\\n xxmaj the depiction of xxmaj wallace is very well done and effective . xxmaj but it really does n't inspire or intrigue me . i find human ambiguity far more xxunk than human perfection . xxmaj that is why \" the xxmaj last xxmaj temptation of xxmaj christ \" is a better film than \" king of xxmaj kings \" , and that is also one of the reasons why i think \" rob xxmaj roy \" is better than \" braveheart \" . xxmaj rob xxmaj roy may be heroic and brave , but he is far from perfect . xxmaj he makes several mistakes that affected the lives of many of his loved ones . xxmaj now sure , not bearing false claim against the xxmaj duke of xxmaj xxunk was an act of nobility and courage , but it was also an act of xxunk and self centeredness . xxmaj let us not forget that the kinfolk that he had claimed to protect were driven homeless by the end of the film because of this act . xxmaj but xxmaj rob did the best he could , and that was all you could ask of him . \\n\\n xxmaj rob 's xxmaj wife xxmaj mary , is also a normal , xxunk person . xxmaj let us start though , with how she looks in this film . xxmaj sure , she 's beautiful , but she does n't wear makeup and she basically allows her natural beauty to show . xxmaj compare this with the two loves ( or one , depending on your point of view ) of xxmaj william xxmaj wallace in \" braveheart \" . xxmaj now these two ladies are hot , but hardly xxunk of how women looked at the time ( especially the lay persons ) . xxmaj maybe not a fair comparison , but just another example of how xxmaj rob xxmaj roy 's attempts for accuracy are far more effective . \\n\\n xxmaj throughout \" rob xxmaj roy \" , xxmaj mary has to live with her vicious rape by the dastardly xxunk , xxmaj cunningham . xxmaj she feels compelled to tell xxmaj rob of her struggle , but does n't because she knows that xxmaj rob must seek revenge for her rape . xxmaj such revenge would surely mean the death of xxmaj rob , and xxmaj mary is not prepared for such a sacrifice . \\n\\n xxmaj the villains in \" rob xxmaj roy \" are equally as compelling . xxmaj although the enemies in \" braveheart \" are well written , they are hardly original . xxmaj robert the xxmaj bruce , a man both brave and cowardly , is plagued by moral decisions that are all to familar in the fictional realm . xxmaj should he take his claim as the king of xxmaj scotland , or should he betray xxmaj wallace in order to ensure the safety of his family name ? xxmaj bruce is the most xxunk character in \" braveheart \" , but from xxmaj brutus in \" julius xxmaj ceasar \" to xxmaj fredo in \" the xxmaj godfather xxmaj part xxup ii \" , these types of characters are hardly original . xxmaj xxunk , although a compelling villain in his own right , is very one dimensional . xxmaj he is the xxunk of evil , and his tyrant ways stand in direct contrast to xxmaj wallace 's heroism . \\n\\n \" rob xxmaj roy \" has three villains that are wonderful in their chicanery . xxmaj first of all , let 's start with xxmaj marquis of xxmaj montrose . xxmaj he is a man who is so obsessed with his self image , that he 's willing to let an innocent man suffer because of it . \" see to it that i am not mocked \" are his favorite words to his \" factor \" . xxmaj he is a man obsessed with power , upset that a man of great noble bearing as the xxmaj duke of xxmaj xxunk can be considered of greater xxunk then him . xxmaj he is shamefully self obsessed and insecure . xxmaj he is an evil aristocrat , but in ways that make him unique . \\n\\n xxmaj cunningham and xxmaj xxunk are the conspirators in \" rob xxmaj roy \" , and are also xxmaj roy 's direct assailants . xxmaj xxunk is so cunning in his xxunk that he is almost comical . xxmaj he will do anything to maintain the good will of the xxmaj marquis , which includes backstabbing and trickery . xxmaj cunningham is a compelling character in that he seems to have been raised to do whatever he can to obtain status and the affection of the xxmaj marquis . xxmaj he needs a father , little does he know that the xxmaj marquis is his real father . xxmaj therefore , when the opportunity to obtain wealth comes from xxmaj xxunk , he grabs it without even questioning it . xxmaj he is very much like the evil of modern man , so self centered and vain that he cares not about the consequences of his actions on others . \\n\\n xxmaj many have criticized xxmaj tim xxmaj roth 's performance in this film as overacting . xxmaj hogwash i say . xxmaj it is clear that xxmaj cunningham is not simply evil but also psychopath throughout the film . xxmaj in a world where a man and his stepson can go around shooting random people for amusement , is xxmaj cunningham too much of an unbelievable character ? xxmaj we live in a society where people seem to have decreased the value of human life . \" rob xxmaj roy \" simply teaches us that only the circumstances of this decreased value has changed . xxmaj it is a problem throughout human history that the vanity of the human heart will not allow for the capacity for compassion . xxmaj rob xxmaj roy and xxmaj mary give us hope that goodness will prevail , but snakes will always exist in our world . \\n\\n xxmaj another character that i find fascinating is the xxmaj duke of xxmaj xxunk . xxmaj he is a true nobleman , and his values of honesty and courtesy are in direct contrast to the xxmaj marquis . xxmaj he appreciates the bravery of xxmaj rob xxmaj roy and xxmaj mary , and has a direct xxunk for the xxmaj marquis and his factor . xxmaj he gives the world hope for the people of power . xxmaj hopefully , people like the xxmaj marquis are an exception and not the rule . \\n\\n - xxmaj the final duel in \" rob xxmaj roy \" is more exciting then 10 of the battle scenes in \" braveheart \" . \\n\\n xxmaj one thing i get tired of is people telling me that \" braveheart \" is a better film because of the battle scenes . xxmaj first of all , battle scenes are hardly original . xxmaj from \" spartacus \" to \" gladiator \" , xxmaj hollywood has had a long tradition of historical xxmaj european battle scenes . \" braveheart \" has some of the best battle scenes ever put on film , but they suffer from one important problem . xxmaj these battle scenes have no context except for the fight for freedom . \\n\\n xxmaj now , do n't get me wrong , duels are hardly original either . xxmaj in fact , there are probably 10 times as many films with duels as there are with battle scenes . xxmaj but the context of the duel between xxmaj cunningham and xxmaj rob xxmaj roy is a beauty to behold . xxmaj it is one of the greatest scenes in film history . xxmaj let me explain why … \\n\\n xxmaj first of all , the fighting style and the bearing of the two characters in this duel describe the characters perfectly . xxmaj cunningham is xxunk and dangerous , xxmaj rob xxmaj roy is strong and courageous . xxmaj cunningham uses a fencing sword while xxmaj rob uses a xxunk . xxmaj cunningham fights with quick tricky movements , while xxmaj roy 's fighting style is more obvious . \\n\\n xxmaj the whole film , from the deliberately slow first half to the exciting second half , is leading up to this moment . xxmaj it is powerful stuff , and it is clear that xxmaj rob must exterminate this menacing evil that has plagued his whole world . xxmaj when xxmaj rob finally gets the upper hand ( literally and figuratively , ) it is one of the greatest moments in film history . xxmaj rob wins because he has more to live for , and his honor is more powerful than 10 xxmaj cunningham 's . xxmaj the use of music is absolutely chilling in this scene . xxmaj good prevailing against a real evil is more powerful to me than seeing a dude get disemboweled just so he can yell \" freedom ! \" . xxmaj but hey , maybe that 's just me . \\n\\n - \" rob xxmaj roy \" is more realistic than \" braveheart \" \\n\\n i do n't know that people in the aristocracy or xxmaj xxunk talked like the people in \" rob xxmaj roy \" , but i do feel that it clearly an attempt to capture their speech patterns . i feel that many people are bored by \" rob xxmaj roy \" simply because they ca n't understand what the characters are saying . xxmaj if this is the case , then read some xxmaj xxunk , or put on the close - captioning . \" rob xxmaj roy \" is actually one of the greatest written films of the 90 's . xxmaj many of the dialogue in this film is clever , but maybe you have to watch the film a couple of times to understand it . \\n\\n xxmaj by contrast , the dialogue in \" braveheart \" is hardly very interesting . xxmaj of course , what do you expect when the main character is a xxmaj scotsman played by an xxmaj australian ? xxmaj this is a legend , and there was clearly not an attempt to capture the speech of the times . xxmaj this film takes place several centuries before \" rob xxmaj roy \" , and yet they talk like the people today . xxmaj thus the reason that many people like it better . xxmaj audiences today have become increasingly lazy , and they do n't want to take the time or patience to understand things that are complex . xxmaj therefore , as with many epic films , they expect to see the villians speak a recognizable xxmaj english accent while the heroes speak in a vernacular not too far away from our xxmaj american language . xxmaj sure , it is clear that the xxmaj wallace is xxmaj scotish , but other than sounding like xxmaj scotty from xxmaj star xxmaj trek and a couple of \" xxunk for acknowledgement , the xxmaj scots in this film fit into the xxmaj hollywood tradition of how we believe xxmaj scots should sound . \\n\\n xxmaj so , do these descriptions prove that \" rob xxmaj roy \" is a better film than \" braveheart \" ? xxmaj hardly . xxmaj but if it proves one thing , it shows that it is hardly common knowledge that \" braveheart \" is a better film than \" rob xxmaj roy \" . xxmaj to put simply , \" rob xxmaj roy \" is a film that has themes that are very apropos in today 's world . \" braveheart \" is a film about a legend that is inspiring but hardly realistic . xxmaj you can make a decision on what you think is better … \\n\\n xxmaj grade - a xxmaj score - 9</td>\n",
       "      <td>pos</td>\n",
       "    </tr>\n",
       "    <tr>\n",
       "      <th>1</th>\n",
       "      <td>xxbos xxmaj by now you 've probably heard a bit about the new xxmaj disney dub of xxmaj miyazaki 's classic film , xxmaj laputa : xxmaj castle xxmaj in xxmaj the xxmaj sky . xxmaj during late summer of 1998 , xxmaj disney released \" kiki 's xxmaj delivery xxmaj service \" on video which included a preview of the xxmaj laputa dub saying it was due out in \" 1 xxrep 3 9 \" . xxmaj it 's obviously way past that year now , but the dub has been finally completed . xxmaj and it 's not \" laputa : xxmaj castle xxmaj in xxmaj the xxmaj sky \" , just \" castle xxmaj in xxmaj the xxmaj sky \" for the dub , since xxmaj laputa is not such a nice word in xxmaj spanish ( even though they use the word xxmaj laputa many times throughout the dub ) . xxmaj you 've also probably heard that world renowned composer , xxmaj joe xxmaj hisaishi , who scored the movie originally , went back to rescore the excellent music with new arrangements . xxmaj laputa came out before xxmaj my xxmaj neighbor xxmaj totoro and after xxmaj nausicaa of the xxmaj valley of the xxmaj wind , which began xxmaj studio xxmaj ghibli and it 's long string of hits . xxmaj and in my opinion , i think it 's one of xxmaj miyazaki 's best films with a powerful lesson xxunk inside this two hour and four minute gem . xxmaj laputa : xxmaj castle in the xxmaj sky is a film for all ages and i urge everyone to see it . \\n\\n xxmaj for those unfamiliar with xxmaj castle in the xxmaj sky 's story , it begins right at the start and does n't stop for the next two hours . xxmaj the storytelling is so flawless and masterfully crafted , you see xxmaj miyazaki 's true vision . xxmaj and believe me , it 's one fantastic one . xxmaj the film begins with xxmaj sheeta , a girl with one helluva past as she is being held captive by the government on an airship . xxmaj sheeta holds the key to xxmaj laputa , the castle in the sky and a long lost civilization . xxmaj the key to xxmaj laputa is a sacred pendant she has which is sought by many , namely the government , the military and the air pirate group , the xxmaj dola gang ( who xxmaj sheeta and xxmaj pazu later befriend ) . xxmaj soon , the pirates attack the ship and she escapes during the raid . xxmaj she falls a few thousand feet , but the fall is soft and thanks to her pendant . xxmaj as she floats down from the sky , xxmaj pazu , an orphan boy who survives by working in the mines , sees xxmaj sheeta and catches her . xxmaj the two become fast friends , but thanks to her pendant , the two get caught up in one huge thrill ride as the xxmaj dola gang and government try to capture xxmaj sheeta . xxmaj one action sequence after another , we learn all of the character 's motives and identities as we build to the emotional and action packed climax which will surely please all with it 's fantastic animation and wonderful dialogue . xxmaj plus somewhat twisty surprise . i think this film is simply remarkable and does hold for the two hour and four minute run time . xxmaj the story is wonderful , as we peak into xxmaj hayao xxmaj miyazaki 's animation which has no limits . xxmaj the setting of the film is a combo of many time periods . xxmaj it does seem to take place at the end of the 1800s , but it is some xxunk universe which has advanced technology and weapons . xxmaj laputa is also surprisingly a funny film . xxmaj the film has tons of hilarious moments , almost equal to the drama and action the film holds . i think the funniest part is a fight scene where xxmaj pazu 's boss faces off against a pirate , and soon after a riot breaks out . xxmaj it 's funny as we see the men compare their strength and the music fits right in with it perfectly . \\n\\n xxmaj now let 's talk about how the dub rates . xxmaj an excellent cast give some great performances to bring these characters to life . xxmaj teen heartthrob xxmaj james xxmaj van xxmaj der xxmaj beek plays the hero xxmaj pazu , who has a much more mature voice then in the xxmaj japanese version , where in the original he sounded more childlike . xxmaj either way , i think his voice is a nice fit with xxmaj pazu . xxmaj anna xxmaj paquin , the young xxmaj oscar winner from \" the xxmaj piano \" , plays xxmaj sheeta . xxmaj this is also a nice performance , but the voice is a bit uneven , she does n't stay true to one accent . xxmaj at times she sounds as xxmaj american as apple pie , but at other times she sounds like someone from xxmaj new xxmaj zealand . xxmaj the performance i most enjoyed however was of xxmaj xxunk xxmaj leachman , who played xxmaj mama xxmaj dola . xxmaj not only is this an excellent performance , but the voice and emotion she gives the character really brings it to life . xxmaj if there was ever a live action xxmaj laputa movie ( g - d forbid ) , she would be the one to play her , you can just imagine her in the role ( well , somewhat ) . xxmaj luke xxmaj skywalker himself , xxmaj mark xxmaj hamill is xxmaj muska , and this is another top rate xxmaj hamill performance . xxmaj you may be familiar with xxmaj hamill from a long line of voice work after he did the original xxmaj star xxmaj wars movies , but he renders xxmaj muska to full evil . xxmaj his voice sounds like his regular voice and mix of the xxmaj joker , who he played for many episodes on the animated xxmaj batman series . xxmaj rounding out the cast is voice character actor xxmaj jim xxmaj cummings , who does a great , gruff job as the general and xxmaj andy xxmaj dick and xxmaj mandy xxmaj xxunk as members of the xxmaj dola gang . \\n\\n xxmaj now let me talk about what really makes this dub special , xxmaj joe xxmaj hisaishi 's newly arranged music ! xxmaj for those who have never heard of him , xxmaj mr . xxmaj hisaishi does the music and like all of xxmaj miyazaki 's films , the music is very memorable . xxmaj each of his scores has it 's own personas which fits the particular film perfectly . xxmaj now , these new arrangements he has done are more \" american like \" , which i think was the goal of the new recordings . xxmaj do n't worry , the classic tunes of the xxmaj japanese version are still here in great form . xxmaj the score , to me , sounds to be arranged like this is a xxmaj hollywood blockbuster . xxmaj it has more power , it has more emphasis , it 's clearer and deeper . xxmaj the film 's prologue , the first seconds where we are introduced to the airships , has some new music ( i am not sure , but i believe when we first saw the ships there was no music at all ) . xxmaj but a majority of the music has new backdrops and more background music to enjoy . xxmaj things seem very enhanced . xxmaj in a powerful scene , the music is more stronger then in the original versions . xxmaj in a calm scene , it 's more calmer . xxmaj overall , i think many of you will be pleased with the new arrangements an mixes , i highly did myself , and personally think it helps improve the film . i prefer the new score over the old one , and i hope xxmaj disney will release or license the music rights to a full blown soundtrack . \\n\\n xxmaj another plus side to the dub is that the story remains faithful , and much of the original xxmaj japanese lines are intact . xxmaj in xxmaj kiki , xxmaj i 'm sure a few lines where changed , and this is the same way , lines have been changed . xxmaj but a majority are close or exactly the original lines and dialogue xxmaj miyazaki has written . i was afraid some excellent lines would be butchered , but they were there intact . xxmaj some new lines have been added as well which help out . xxmaj but i am not sure whether to consider this a good thing or a bad thing , xxmaj disney xxup did xxup not translate the ending song , it was in xxmaj japanese . i was mortified when they did completely new songs for the xxmaj kiki dub , but with this version it 's the original song … in xxmaj japanese . xxmaj so i guess it 's good it 's still the original , but bad since a majority of people seeing this dub speak xxmaj english . \\n\\n xxmaj there is a big down side to this dub , and it deals with how the voices match the character 's lips . xxmaj of course in any dub it wo n't be perfect , but i think in xxmaj kiki and xxmaj mononoke the dubbing of lines to match were much better executed ( and xxmaj disney had a little bit more time with this one … ) . xxmaj some of the time everything matches perfect , some of the time it does n't completley match , and in a rare case , someone says something and the lips do n't move at all ( there 's a scene where xxmaj sheeta chuckles and her mouth does n't move one bit ) . \\n\\n xxmaj as far as things about the film itself , these are my thoughts . i thought the most amazing part of xxmaj laputa was the animation . xxmaj from the opening sequence to the ending , the animation is so lush and detailed , you just have to watch in awe . xxmaj you see the true nature of each character , true detail to their face with extreme close ups and action . xxmaj you have to give a ton of credit for the effort that these animators put into this film . xxmaj everything is so well done and beautifully hand drawn , it 's like a moving piece of art . xxmaj and to think , this was done in the mid 1980 's . xxmaj the animation is quite different from xxmaj disney , xxmaj ghibli has it 's own distinctive flare which is very different , but very good . xxmaj and after all these years , the colors look as vibrant as ever . xxmaj laputa also has tons of action sequences , lots of plane dogfights plus a few on ground . xxmaj these sequences are so well done and so intriguing , it 's scary that they are comparable to a big budget action film . xxmaj and the finale is just something you xxup must see . xxmaj the sound effects are pure and classic and fit explosions , guns firing and everything else well . xxmaj and like all xxmaj miyazaki films , each one focuses on a different theme ( xxunk . xxmaj kiki : xxmaj confidence ) . xxmaj this one has a great a lesson on greed and power . xxmaj people do n't realize how greed can take over you , and how having too much power is n't good . xxmaj people are obsessed with power , and are greedy , and the main villian , xxmaj muska , greatly shows this . \\n\\n xxmaj all in all , xxmaj laputa : xxmaj castle xxmaj in xxmaj the xxmaj sky was a great film to begin with , and is now improved for the most part . i am glad a more mainstream audience now have the chance to see this classic animated film in all it 's glory . xxmaj with a great voice cast who put a lot into the film with the excellent redone musical score from xxmaj joe xxmaj hisaishi , xxmaj disney has done a nice job on this dub and is quite worthy . xxmaj though i think the voices matched the mouths better in the xxmaj kiki and xxmaj princess xxmaj mononoke xxmaj disney dubs , xxmaj castle xxmaj in xxmaj the xxmaj sky is still a great dub and is worth the long delays because now more can xxunk a fantastic film .</td>\n",
       "      <td>pos</td>\n",
       "    </tr>\n",
       "    <tr>\n",
       "      <th>2</th>\n",
       "      <td>xxbos xxmaj warning : xxmaj does contain spoilers . \\n\\n xxmaj open xxmaj your xxmaj eyes \\n\\n xxmaj if you have not seen this film and plan on doing so , just stop reading here and take my word for it . xxmaj you have to see this film . i have seen it four times so far and i still have n't made up my mind as to what exactly happened in the film . xxmaj that is all i am going to say because if you have not seen this film , then stop reading right now . \\n\\n xxmaj if you are still reading then i am going to pose some questions to you and maybe if anyone has any answers you can email me and let me know what you think . \\n\\n i remember my xxmaj grade 11 xxmaj english teacher quite well . xxmaj his name was xxmaj mr . xxmaj xxunk . xxmaj to me , he was wise beyond his years and he always had this xxunk way of teaching you things that perhaps you were n't all too keen on . xxmaj if we did n't like xxmaj shakespeare , then he turned the story into a modern day romance with modern day language so we could understand it . xxmaj our class room was never a room , it was a cottage and we were on the lake reading a book at our own leisure time . xxmaj this was his own indelible way of branding something into our sponge - like minds . \\n\\n i begin this review of xxmaj vanilla xxmaj sky with a description of this brilliant man because he once gave us an assignment that has been firmly etched in my mind , like the phone number of a long lost best friend , and it finally made some sense to me after watching xxmaj the xxmaj matrix . xxmaj now if i did n't know better , i would have thought that the xxmaj wachowski brothers were really just an alias for my teacher xxmaj mr . xxmaj xxunk . xxmaj but giving them the benefit of the doubt , we 'll assume it was n't him . xxmaj but that was the first time this assignment was anything more than xxunk . \\n\\n xxmaj he had asked us to prove to him and to ourselves that were real . xxmaj show me how you can tell that you are real . xxmaj this got the class spouting off all of the usual ideas that xxmaj i 'm sure you can imagine . xxmaj everything from pain , to sense of touch to sense of loss to sense of hunger were spouted off to our teacher to prove to him that we were real . xxmaj after every scenario that we gave him , he would come back with the one answer that would leave us speechless . \\n\\n \" what if you are nothing but someone else 's dream ? \" \\n\\n xxmaj what if you were someone else 's dream ? xxmaj what a messed up question that is . xxmaj this was a question / scenario posed to us about 15 years ago , before the astronomical use of the xxmaj internet and rapid advancement of computers . xxmaj how possible could it seem back then ? xxmaj but if you look at today 's technology , now ask yourself , what it you were a part of someone else 's dream . \\n\\n xxmaj another brilliant but surreal film this year , xxmaj david xxmaj lynch 's xxmaj mulholland xxmaj drive explored similar areas . xxmaj but xxmaj vanilla xxmaj sky goes deeper than any other film could hope to . xxmaj in short this is one film that will literally ( if you let it ) blow your mind from all of the possibilities that surround you . \\n\\n xxmaj open your xxmaj eyes . \\n\\n xxmaj tom xxmaj cruise plays xxmaj david xxmaj aames , a young , hot shot , righteous , full of himself publisher and owner of several magazines . xxmaj he inherited this from his father and although he has talent and business savvy , his board of xxunk , the xxmaj seven xxmaj dwarfs , think he is a rich dink born with a silver spoon in his mouth . xxmaj they feel he has done nothing to deserve the pinnacle of success that each and every one of them believes should go to them . \\n\\n xxmaj early in the film we meet one of xxmaj david 's gorgeous toys named xxmaj julie xxmaj gianni , played with pernicious but bombastic perfection by xxmaj cameron xxmaj diaz . xxmaj david and xxmaj julie play a good game , both claiming they are just there to use each other and are not the slightest bit interested in a monogamous , committed relationship . xxmaj this is the type of relationship commensurate with xxmaj david 's other flings he 's had in the sexual prime of his life . xxmaj and although both talk a good game , we can tell that only one is really telling the truth . \\n\\n xxmaj next we meet xxmaj brian xxmaj shelby , played with a stroke of genius by xxmaj kevin xxmaj smith 's good buddy xxmaj jason xxmaj lee . xxmaj brian is writing a book that xxmaj david is going to publish but they are also very good friends . xxmaj this is something that xxmaj david has very little of in his life and you can sense a real caring for one another early on in the film . xxmaj brian has one famous line that he keeps telling xxmaj david over and over again . xxmaj and that is \" the sweet ai n't so sweet without the bitter . \" xxmaj he goes on to tell him that one day he will find true love and not just this part time lover status that he seems to perpetrate with all of the floozies who inhabit his bed for a night or two . \\n\\n xxmaj at xxmaj david 's huge birthday bash , ( so huge that the likes of xxmaj steven xxmaj spielberg wish him a happy birthday ) xxmaj brian enters with his date , xxmaj sofia xxmaj xxunk , played of course by xxmaj penelope xxmaj cruz with what has to be the best performance of this year by an actress . xxmaj this is a bash by invite only and at first xxmaj david and xxmaj sofia seem intrigued with one another . xxmaj and in typical xxmaj david fashion , despite his best friend being there , he begins to flirt with xxmaj sofia . xxmaj to complicate things , xxmaj julie shows up uninvited and begins spying on xxmaj david . xxmaj david then spends the night with xxmaj sofia , but they only talk and draw caricatures of one another . xxmaj there is no hanky panky . xxmaj the next day , as xxmaj david is leaving xxmaj sofia 's apartment , he is greeted by xxmaj julie , who offers him a ride and from there … … .well , i think we have all seen the commercials . \\n\\n xxmaj that is all i will really say about the plot , because from here the film teases us with what is reality and what is blurred perception . xxmaj we are introduced to a character played by xxmaj kurt xxmaj russel and a few other shady characters that all play a part in this labyrinth like haze . xxmaj there is a subtext of death and possible panacea - like cure - alls that may or not be able to create the possibility of eternal life . xxmaj this is just one of the intriguing possibilities the movie offers us , but it does n't end there . \\n\\n xxmaj like many movies seem to thrive on today , this film has a secret . xxmaj sixth xxmaj sense may have began this craze , but look even further back and you can maybe thank xxmaj angel xxmaj heart for starting the craze . xxmaj regardless of how it originated , xxmaj vanilla xxmaj sky has one of it 's own xxunk gut busters . xxmaj and what makes this one so much fun is that the film gives you many obvious clues along the way but not enough to give you an xxunk solution to the gauntlet of truth and lies you have just put yourself through . i have seen this film four times and every time it has been because i want to see if there is something more i can pick up , something more i can understand . xxmaj to be able to work your mind in the theater , to enable it to open up to new possibilities is something rare in a film . xxmaj all of the ersatz so called \" best xxmaj pictures of the year \" have been good but nothing spectacular . xxmaj they lack substance . a xxmaj beautiful xxmaj mind was intriguing but flat , xxmaj the xxmaj royal xxmaj tenenbaums was interesting but uneven . xxmaj vanilla xxmaj sky is a rarity because it is a film that leaves you yearning for more yet guarantees your satisfaction because the film and those that made it care about it . i know this film has received mixed reviews but i just think that those who do n't like it do n't quite understand it . \\n\\n xxmaj this is what film making is supposed to be like . xxmaj this is what a film is supposed to do to you . xxmaj it is supposed to make you feel something . xxmaj most of the other films this year have been just empty spaces . xxmaj this one is n't . \\n\\n 10 out of 10 xxmaj the best film of the year . i would love to see this get nominated for best picture and i would love to see xxmaj cruz up for best xxmaj actress , xxmaj diaz for best supporting , xxmaj cruise for best actor and xxmaj jason xxmaj mewes should be a shoe in for best supporting actor . xxmaj cameron xxmaj crowe should there as well . xxmaj none of this may come to pass , and that is a shame . xxmaj this is one film that should not be missed . \\n\\n xxmaj and on a final note , i am quite sure xxmaj mr . xxmaj xxunk would like this film and maybe this is the one film that may answer his question . xxmaj can you prove you are real ? xxmaj or are we just a figment of someone 's imagination ? xxmaj are we artificially transplanted for someone else 's bemusement ? xxmaj this is a film that spawns more questions than it does answers . xxmaj and xxmaj i 'm sure that is just fine with him . \\n\\n xxmaj open xxmaj your xxmaj eyes</td>\n",
       "      <td>pos</td>\n",
       "    </tr>\n",
       "    <tr>\n",
       "      <th>3</th>\n",
       "      <td>xxbos xxrep 3 * xxmaj warning - this review contains \" plot spoilers , \" though nothing could \" spoil \" this movie any more than it already is . xxmaj it really xxup is that bad . xxrep 3 * \\n\\n xxmaj before i begin , xxmaj i 'd like to let everyone know that this definitely is one of those so - incredibly - bad - that - you - fall - over - laughing movies . xxmaj if you 're in a lighthearted mood and need a very hearty laugh , this is the movie for you . xxmaj now without further ado , my review : \\n\\n xxmaj this movie was found in a bargain bin at wal - mart . xxmaj that should be the first clue as to how good of a movie it is . xxmaj secondly , it stars the lame action - star xxmaj dolph xxmaj lundgren . xxmaj that should be the second clue as to how good of a movie it is . xxmaj i 'm still shocked that it was even put on xxup dvd ( who would waste their money doing such a thing ? ) , though as you might imagine , there are n't any extras or bonus footage on the xxup dvd . xxmaj in fact , there 's not even a menu ; the movie just starts playing . \\n\\n xxmaj first , the writer for this movie deserves to be tortured and killed . xxmaj it has one of the worst scripts ever written and is plagued with terrible one - liners ; remarkably unbelievable , fake dialogue ; and inappropriate comments ( like xxmaj lee 's comment on xxmaj lundgren 's . err . manhood , which xxmaj i 'll mention later ) . xxmaj there is n't one single sincere sounding line in the entire movie . xxmaj the dialogue and plot go hand - in - hand , as the script and plot both progress in an entirely nonsensical fashion . xxmaj the two cops hate each other for no apparent reason at the beginning , and then for again no reason at all , xxmaj lee 's character pulls over to the side of the road , runs around to the other side of the car , and says ` i 'm not going to let you go alone , 'cause despite myself , i like you ! xxmaj and i do n't want to see you get killed ! ' . or something to that extent , anyhow . xxmaj there are disgusting one - liners , mostly said by xxmaj lee . xxmaj for instance , when duking it out with a bad guy , xxmaj lee says ` you have the right to remain silent . xxmaj you have the right to be dead ! ' xxmaj lastly , xxmaj i 'll mention the entirely inappropriate and nonsensical comment that xxmaj lee makes about xxmaj lundgren 's nether - regions . xxmaj when bad guys start to attack after a seemingly random love scene between xxmaj lundgren and xxmaj carrere , and xxmaj lundgren decides to fight them off in his underwear , xxmaj lee says to him : ` incase we die , i just wanted to let you know that you have the biggest dick xxmaj i 've ever seen on a guy . ' . xxmaj yes , he actually says that . xxmaj it makes no sense and is n't even possible ( lee never actually sees xxmaj lundgren naked , so how would he know ? ) , but the writer threw it in the script anyway . xxmaj the entire movie looks like some kind of action video game , and xxmaj lee even admits it . xxmaj after xxmaj lee and the underwear - only xxmaj lundgren defeat all of those bad guys , xxmaj lee makes a comment that is also truly beautiful : ` wow , this is sort of like a video game ; we just defeated the first wave ! ' \\n\\n xxmaj second , the plot of this movie is despicable . xxmaj it suffers , in my opinion , mainly from the fact that it just does n't exist . xxmaj the trailer for this movie - which imdb has available for viewing , by the way - makes it sound like the movie is about two cops trying to stop the xxmaj japanese xxmaj yakuza from taking over xxmaj lost xxmaj angeles . xxmaj this is extremely misleading , however , since the movie has practically nothing to do with that at all . xxmaj they make very brief , vague references to the xxmaj yakuza trying to start up a xxunk business with local drug dealers , but the entire movie xxup actually revolves around a poorly - written attempt for xxmaj xxunk ( lundgren 's character ) to revenge the death of his parents , whom the xxmaj yakuza leader ( named xxmaj yoshida ) killed when he was only 9 years old . xxmaj the entire plot can basically be summed up like this : xxmaj yoshida wants xxmaj xxunk dead , xxmaj xxunk wants xxmaj yoshida dead , and the two try two kill each other . xxmaj and of course all the while xxmaj xxunk 's sarcastic sidekick ( named xxmaj johnny and played by xxmaj brandon xxmaj lee ) acts like an ignorant idiot , and xxmaj tia xxmaj carrere gets naked . twice . \\n\\n xxmaj the acting is one of the worst parts of the entire movie . xxmaj the dialogue is so unrealistic , and their entirely insincere portrayal of it emphasizes this even more . xxmaj you 'd expect poor acting from action stars anyway , but this movie highlights some of the most unimaginably bad acting ever recorded . \\n\\n xxmaj finally we get to the heart of the movie 's baseness : the flagrantly bad action . xxmaj there are so many astoundingly bad , unrealistic action sequences in this movie , it 's just downright impressive they managed to fit them all in . xxmaj although xxmaj lee has his fair share of bad scenes as well , most of the truly terrible action involves xxmaj lundgren . xxmaj for instance , xxmaj lundgren nonchalantly takes on four or five kung fu bad guys one - handed , without spilling his tea . xxmaj then , when surprised by an oncoming speeding car , xxmaj lundgren casually leaps over it . xxmaj or how about when he reaches xxup through a closed door , grabs the villain on the other side , pulls him back through the door , and beats him up ? xxmaj or when he picks up xxmaj tia xxmaj carrere , gently walks ( not runs ) backward through a glass door that shatters around him , and leaps down a one - story height with xxmaj tia still in arm , only to then lift up an entire car without the slightest effort and uses it as a barricade to shield them from bullets ? xxmaj all of the shameless gunfights are terrible as well , with xxmaj lundgren and xxmaj lee killing every bad guy instantaneously , while the rain of bullets from their fifty attackers never seem to hit either of them . xxmaj that is , of course , until the final fight scene of the movie . xxmaj lundgren gets shot point blank in his bare chest in a region that even if it did manage to miss his heart , would still immediately begin to fill lungs with blood and kill him within a matter of seconds . xxmaj despite this , xxmaj lundgren remains in top - notch condition and manages to duke it out in the middle of a parade with xxmaj yoshida , the evil super villain . xxmaj and of course the passing people in the parade dressed as samurai are carrying xxup real , fully sharpened katanas , which the two use to sword fight . xxmaj now in addition to his bullet wound , xxmaj lundgren gets several deep slices in his chest and arms . xxmaj does this stop him ? xxmaj no , of course not ! xxmaj in fact , a few seconds later after easily killing the evil xxmaj yoshida ( who gets pinned to a xxunk - like wheel and then bursts into flames for no reason ) , xxmaj lundgren casually walks off with xxmaj tia and xxmaj lee as if he was n't injured at all . xxmaj god , it 's terrible . \\n\\n xxmaj all of these factors are then mixed up with an entirely unnecessary , gratuitous nude scene every five minutes , including topless women at a party , the beheading of a topless woman , women at a strip club , nude women at a xxmaj japanese spa , and the pointless hot tub and love scene with xxmaj tia . xxmaj not to mention the trip to the bizarre sushi bar , at which rich xxmaj japanese men are eating sushi off of naked women . xxmaj which , by the way , prompts xxmaj lee to say with much fake enthusiasm that after defeating the bad guys he and xxmaj lundgren will ` go eat fish off those naked chicks ! ' xxmaj which , of course , is followed by a disturbing high five . xxmaj and we ca n't forget the terrible editing either , like when the villains are crushing a man trapped in a car at a junk yard , and the editors left in a really obvious glimpse of a prop dummy . xxmaj the credits also list an enormous list of stunt workers , which implies that a lot of the action probably was n't done by the movie stars after all . \\n\\n xxmaj in the end , this movie repeatedly outdoes it self with brazen badness . xxmaj it is illogical and impossible , and as a result , remarkably entertaining . xxmaj if you 're looking for any kind of thoughtful cinema , this movie will make you want to die . xxmaj if you 're looking for a good laugh and a good time mocking bad movie making , this movie will delight you . xxmaj as an actual movie , xxmaj i 'll merit this movie a 0.5 out of 10 . xxmaj as an entertaining way to waste an hour and eighteen minutes , however , this beauty takes the cake .</td>\n",
       "      <td>neg</td>\n",
       "    </tr>\n",
       "    <tr>\n",
       "      <th>4</th>\n",
       "      <td>xxbos xxmaj raising xxmaj victor xxmaj vargas : a xxmaj review \\n\\n xxmaj you know , xxmaj raising xxmaj victor xxmaj vargas is like sticking your hands into a big , steaming bowl of oatmeal . xxmaj it 's warm and gooey , but you 're not sure if it feels right . xxmaj try as i might , no matter how warm and gooey xxmaj raising xxmaj victor xxmaj vargas became i was always aware that something did n't quite feel right . xxmaj victor xxmaj vargas suffers from a certain overconfidence on the director 's part . xxmaj apparently , the director thought that the ethnic backdrop of a xxmaj latino family on the lower east side , and an idyllic storyline would make the film critic proof . xxmaj he was right , but it did n't fool me . xxmaj raising xxmaj victor xxmaj vargas is the story about a seventeen - year old boy called , you guessed it , xxmaj victor xxmaj vargas ( victor xxmaj rasuk ) who lives his teenage years chasing more skirt than the xxmaj rolling xxmaj stones could do in all the years they 've toured . xxmaj the movie starts off in ` ugly xxmaj fat ' xxmaj donna 's bedroom where xxmaj victor is sure to seduce her , but a cry from outside disrupts his plans when his best - friend xxmaj harold ( kevin xxmaj rivera ) comes - a - looking for him . xxmaj caught in the attempt by xxmaj harold and his sister , xxmaj victor xxmaj vargas runs off for damage control . xxmaj yet even with the embarrassing implication that he 's been xxunk the xxunk girl in the neighborhood , nothing xxunk young xxmaj victor from going off on the hunt for more fresh meat . xxmaj on a hot , xxmaj new xxmaj york xxmaj city day they make way to the local public swimming pool where xxmaj victor 's eyes catch a glimpse of the lovely young nymph xxmaj judy ( judy xxmaj marte ) , who 's not just pretty , but a strong and independent too . xxmaj the relationship that develops between xxmaj victor and xxmaj judy becomes the focus of the film . xxmaj the story also focuses on xxmaj victor 's family that is comprised of his grandmother or xxunk ( xxunk xxmaj guzman ) , his brother xxmaj nino ( also played by real life brother to xxmaj victor , xxmaj xxunk xxmaj rasuk ) and his sister xxmaj vicky ( krystal xxmaj rodriguez ) . xxmaj the action follows xxmaj victor between scenes with xxmaj judy and scenes with his family . xxmaj victor tries to cope with being an oversexed pimp - daddy , his feelings for xxmaj judy and his grandmother 's conservative xxmaj catholic upbringing . \\n\\n xxmaj the problems that arise from xxmaj raising xxmaj victor xxmaj vargas are a few , but glaring errors . xxmaj throughout the film you get to know certain characters like xxmaj vicky , xxmaj nino , xxmaj grandma , xxmaj judy and even xxmaj judy 's best friend xxmaj xxunk . xxmaj the problem is , we know nothing of xxmaj victor xxmaj vargas except that he is the biggest gigolo in the neighborhood . xxmaj we know that he knows how to lick his lips , and comb his fro , and carry himself for the sake of wooing girls into the sack , but that 's all . xxmaj we know that xxmaj nino plays piano , and quiet well , you could see it by the awards on the family piano . xxmaj we know his sister xxmaj nicki , is a gossip - loving girl with an invested interest in watching xxup tv . xxmaj we know that grandma is a hard - working traditional xxmaj latina woman who 's trying to raise her kids with conservatively in a world of excess corruption . xxmaj yet where is the titular character , xxmaj victor xxmaj vargas ? xxmaj he 's in this movie somewhere , but we only know what the movie tells us . xxmaj this is by far the film 's biggest flaw . xxmaj victor xxmaj vargas is n't so much a character but a ping - pong ball , bouncing between scenes with xxmaj judy and his xxmaj grandmother , but we never get to know who xxmaj victor xxmaj vargas really is . xxmaj this is important because as xxmaj i 've mentioned the only thing we know of xxmaj victor xxmaj vargas is that he 's a sexually active teenager with a libido the size of xxmaj manhattan . xxmaj he 's a total xxmaj alpha - male . xxmaj victor xxmaj vargas is not the kind of character i sympathize with at all . xxmaj why should anyone ? xxmaj so by the end of the movie , in the aftermath of the climax are we truly led to believe that somehow xxmaj victor xxmaj vargas has attained xxup any depth and learned the errors of his ways ? xxmaj how could such a two - dimensional character have any depth ? xxmaj if only the director had worried a little more about fleshing out his main character instead of worrying about getting that perfect hand - held shot . \\n\\n xxmaj raising xxmaj victor xxmaj vargas brings to life the world of the xxmaj latino inner - city neighborhood to the big screen . xxmaj something that few films have done before in the past . xxmaj the film has been complimented for feeling so real , and i wo n't \\n\\n argue with that . i have n't seen this level of reality since xxup cbs aired xxmaj survivor . xxmaj seriously , although the movie has some nice shots of the city , the writer / director xxmaj peter xxmaj sollett was way too dependent on close - ups and hand - held shots . xxmaj this problem is particularly noticed in indoor scenes that are so claustrophobic i was forced to perform deep - breathing exercises to keep from passing out . xxmaj as the film continues , the shots get tighter and tighter with faces cropped from brow to chin on the screen ; you can practically smell xxmaj victor xxmaj vargas 's cheap cologne . xxmaj the overall effect is unrealistic in contrast . xxmaj the indoor scenes of inner - city apartments make them look small and cramp , which is not true . xxmaj i 've been in those type apartments ; i used to live in one . xxmaj they 're not xxunk but they have high ceilings and they 're decent living spaces . xxmaj by the movie 's standards you 'd think that these apartments were xxunk cells of brick - and - mortar , chipped paint and cracked walls . xxmaj unfortunately , xxmaj sollett 's constant use of close - ups and one particularly bad shot with a zoom - in on one scene come off as totally amateurish . xxmaj but xxmaj raising xxmaj victor xxmaj vargas is only xxmaj sollett 's second film , and his most well known , a solid effort in filmmaking that will hopefully get better as he continues to make films . xxmaj one review i read summarized the movie as , ` ethnicity for xxmaj ethnicity 's xxmaj sake , ' and i can not agree more . xxmaj if xxmaj victor xxmaj vargas were truly a great film and story , then the characters ' xxunk would n't matter whether they were xxmaj latino , xxmaj chinese , etc . xxmaj yet if you were to take this story and stick it in middle - class suburbia with a bunch of teeny - bopper white kids the results would n't be such glowing reviews , and we 'd see the film 's flaws more clearly . xxmaj indeed , some other aspects of the use of xxmaj latinos in this film bother me . xxmaj while some aspects of xxmaj victor xxmaj vargas are accurate others i have to question . xxmaj for example , xxmaj victor , xxmaj nino and xxmaj vicky all share the same room to sleep . xxmaj this set off an alarm for me because it seemed contrary to what i believe . xxmaj any self - respecting xxmaj latino family would n't have two older brothers sharing the same room with a thirteen - year old girl . xxmaj at first i was unsure , perhaps i was wrong , but after speaking with my grandmother i knew my problem with this was justified . xxmaj considering how conservative the grandmother is , you 'd think that xxmaj vicky would have been sleeping in her room . \\n\\n xxmaj as a xxmaj latino who grew up in a somewhat conservative xxmaj cuban household , raised by my grandmother while my mother was working full - time , i could relate to the movie in many ways , which is why my critical viewpoints are bittersweet because i really wanted to love this movie . xxmaj unfortunately , my lack of respect for xxmaj victor xxmaj vargas sabotaged my feelings for the film . xxmaj maybe it 's because xxmaj victor xxmaj vargas reminds me of those guys who were getting laid while i was playing with my xxmaj sega xxmaj genesis when i was seventeen . xxmaj maybe it 's because without any further introspection by the film , xxmaj victor xxmaj vargas is merely a stereotypical hot - blooded xxmaj latino , who 'll just end up shouting to girls from his car , ` hey bay - bee , ju want to get into my luv mah - xxunk ? ' xxmaj either way i do n't like him , so ultimately how can i like a film about him ? xxmaj so if you 'll excuse me , xxmaj i 'm going to go stick my hands into a bowl of grits .</td>\n",
       "      <td>neg</td>\n",
       "    </tr>\n",
       "    <tr>\n",
       "      <th>5</th>\n",
       "      <td>xxbos xxmaj heavy - handed moralism . xxmaj writers using characters as mouthpieces to speak for themselves . xxmaj predictable , plodding plot points ( say that five times fast ) . a child 's imitation of xxmaj britney xxmaj spears . xxmaj this film has all the earmarks of a xxmaj lifetime xxmaj special reject . \\n\\n i honestly believe that xxmaj jesus xxmaj xxunk and xxmaj julia xxmaj xxunk set out to create a thought - provoking , emotional film on a tough subject , exploring the idea that things are not always black and white , that one who is a criminal by definition is not necessarily a bad human being , and that there can be extenuating circumstances , especially when one puts the well - being of a child first . xxmaj however , their earnestness ends up being channeled into preachy dialogue and trite situations planted to move the plot along . xxmaj the decent production values and interesting use of documentary - style camera footage are not enough to accomplish their aim when the script and the acting fall flat . \\n\\n xxmaj logic is often compromised for the sake of creating tension : xxmaj xxunk first tries to blackmail xxmaj pablo into participating in her documentary in exchange for helping them escape , then in the same breath basically tells him not to trust her because she 's not helping them out of altruism . xxmaj well , duh . xxmaj and for a man on the run , xxmaj pablo is far too swayed by a temper tantrum . xxmaj cristina 's well - being is so important to him that he 's fleeing capture and jail or deportation for her , but he 's willing to risk all that to appease her when she does n't want to go to xxmaj mexico . xxmaj right . xxmaj talk above over - permissive parenting . xxmaj third , when xxmaj pablo 's employer xxmaj charlie gives the phone to xxmaj detective xxmaj bright , she is remarkably unprofessional , especially given her xxunk - did she really think she was persuasive ? xxmaj oh , yeah , i would have turned myself in . xxup xxunk xxmaj pounder 's xxmaj detective xxmaj xxunk could wipe the floor with her . \\n\\n xxmaj to be fair , xxmaj i 'd like to list the things i liked . xxmaj um , i liked the midget . xxmaj and i liked the fact that the midget was named xxmaj sexy . xxmaj there 's cross - dressing , always a plus ; juvenile cross - dressing , no less ! xxmaj harry is infinitely cuter than xxmaj cristina . xxmaj but my favorite moment in the film has to be when xxmaj cristina kicks xxmaj detective not - so - bright . i also find it interesting that , in a heavily minority cast ( which i much appreciate , by the way ) , the black character is the racist one . xxmaj too bad it 's just thrown out there and not further explored . \\n\\n xxmaj there 's a distinctive , unconventional score , but it 's nonetheless generally context - unspecific , not enhancing mood or tension in any scene , except the pathetic , anguished wailing every time the main character is in anguish , as though they think his acting does n't show it enough : ' just in case you were n't sure , he 's upset , and we have the musical cues to prove it . ' \\n\\n xxmaj stilted , clichéd dialogue results in a depressing lack of subtext ; everything has to be spelled out in dialogue , even when the body language had been up ' til then conveying it just fine . xxmaj for example , every impassioned speech xxmaj pablo makes , and xxmaj mrs . xxmaj knight 's lament that her child wo n't be crawling into bed with them in the morning . \\n\\n ' papi , tell me about xxmaj mama again ' - what shameless , blatant exposition introducing the generic dead wife ! ( she 's always the most beautiful woman the widower had ever seen , the kindest he had ever met . xxmaj why ca n't we see a man cry over a woman like xxmaj shakespeare 's - she may be fat , ugly , obnoxious , but his love for her is deep as oceans ? xxmaj now _ there 's _ a story which would move me . ) \\n\\n xxmaj the police always being literally one step behind them gives many scenes the out - of - place feeling of a xxmaj french farce . xxmaj most boring foot chases ever - xxmaj bright and xxmaj lightning are so out - of - shape and easily - fooled ( he certainly is n't quick as lightning , and she , well , i do n't feel the need to spell things out ) . xxmaj some guy dragging along a small child outrunning a bicycle cop , complete with macho biker picking a fight but then being felled by a child ? xxmaj to quote xxmaj margaret xxmaj cho , that 's so sad . xxmaj would we ever see this on ' cops ' ? \\n\\n xxmaj hackneyed and over - the - top deus ex machina : as an employer , would you really waive checking his green card just because he can quote the author of the inspirational saying on a poster behind your desk ? \\n\\n xxmaj plus several scenes , including the above , threaten to devolve into porn : ' well , xxmaj i 'll do this favor for you , as long as you do something for me … ' i can almost hear the xxunk - chicka - xxunk - xxunk . \\n\\n xxmaj when the parents view the footage shot of xxmaj pablo 's remorse , the grieving mom 's freak - out is the most real the movie feels . xxmaj unfortunately , this is diminished by the fact that she looks completely swayed by his emotional speech right up until she goes ballistic . a more ambivalent look would be more convincing here . \\n\\n xxmaj i 'm in constant awe of the stupidity of the main character doing things for the sake of plot : holding up a convenience store without a mask , visiting the dead girl 's grave . xxmaj and why does n't the mother recognize his face from when she saw him before he drove off ? ! ' you seem awfully familiar … ' \\n\\n xxmaj what is the purpose of that wholly unnecessary , somewhat gratuitous scene with xxmaj xxunk and the artificially - enhanced bartender ? xxmaj character development ? xxmaj tch . xxmaj too little , too late . \\n\\n xxmaj speaking of unnecessary traits that never went anywhere , xxmaj detective xxmaj lightning 's saying skeptical xxmaj detective xxmaj bright must be a xxmaj scorpio shows how little he really knows about the occult . xxmaj and i do n't think that believing in fate quite qualifies as voodoo mumbo jumbo . \\n\\n xxmaj at the end , when xxmaj bright holds xxmaj pablo as he dies - wait , why does she care now ? xxmaj her character is as inconsistent as xxmaj xxunk 's . xxmaj what , she has to shoot him just because she said ' stop , or xxmaj i 'll shoot ' ? ( she 's cared _ xxunk _ about her integrity thus far . ) xxmaj he was unarmed . xxmaj there was no need for lethal force . xxmaj what 's wrong with shooting him in the leg to xxunk him ? \\n\\n xxmaj finally , xxmaj cristina 's childlike acceptance of her mother 's death giving xxmaj dr . xxmaj knight peace over his daughter 's death - so forced . xxmaj and the contrivance of the family whose child was killed becoming xxmaj cristina 's new family … xxmaj it angers me that she could be a ' replacement ' for their little girl . xxmaj it 's also unrealistic that a white couple would take in the xxmaj latino daughter of the man who killed their own daughter . xxmaj i 'm not saying there are n't generous , loving people who would do that . xxmaj i 'm just saying that the characters here are never developed far enough for me to believe that _ they _ would do that . \\n\\n i find it offensive that another imdb reviewer said that of course as a woman she was moved by the sappy scenes . i am a woman who reserves my emotional movements for moments that do n't wax sentimental in a manufactured manner . \\n\\n xxmaj co - writer , co - director , co - star xxmaj xxunk said himself he wore too many hats during this production . xxmaj too many cooks may spoil the broth , but one cook alone just might end up making an after - school special . \\n\\n xxmaj in conclusion , this film 's title has less to do with the story and more to do with the feeling of regret , helplessness , and loss accompanying the revelation that you will never see your money again .</td>\n",
       "      <td>neg</td>\n",
       "    </tr>\n",
       "    <tr>\n",
       "      <th>6</th>\n",
       "      <td>xxbos xxmaj the premise of this movie has been tickling my imagination for quite some time now . xxmaj we 've all heard or read about it in some kind of con - text . xxmaj what would you do if you were all alone in the world ? xxmaj what would you do if the entire world suddenly disappeared in front of your eyes ? xxmaj in fact , the last part is actually what happens to xxmaj dave and xxmaj andrew , two room - mates living in a run - down house in the middle of a freeway system . xxmaj andrew is a nervous wreck to say the least and xxmaj dave is considered being one of the biggest losers of society . xxmaj that alone is the main reason to why these two guys get so well along , because they simply only have each other to turn to when comforting is needed . xxmaj just until … \\n\\n xxmaj straight from the beginning of the film lots and lots of problems happen to them . xxmaj both of them get involved with crime , xxmaj andrew suffers from paranoia and simply does n't dare going out of the house . xxmaj dave is unsuccessful at his job and his colleagues do n't treat him very well and with the respect he deserves . xxmaj the amount of problems they face keeps increasing until that one day where they may have to face the inevitable and deal with it . xxmaj this is just too much for them and they wish that everything would just go away … xxmaj and of course that is exactly what happens . \\n\\n xxmaj the rest of the story places xxmaj dave and xxmaj andrew in this world of nothingness . xxmaj at first they are surprised and have problems understanding and dealing with the features of this crazy environment , but later on they find out that they can do just about everything they want because it seems as if they are the only ones still left . \\n\\n xxmaj nothing features an incredibly small cast - in fact , besides the first couple of shots from the film , we only see xxmaj dave ( david xxmaj hewlett ) and xxmaj andrew ( andrew xxmaj miller ) in the entire film . xxmaj it is clear that in order to pull this off , the cast has to be more than up for the task , because in a world where nothing exists there is nothing that can distract the viewer in any way . xxmaj vincenzo has decided to use a reasonable amount of close - up head shots to make it more interesting and it actually works quite well . xxmaj director of xxmaj photography , xxmaj derek xxmaj rogers , also has a nice way of teasing the audience by withholding visual information , especially at times where a character sees something and reacts to it , but we do n't see it right away . \\n\\n xxmaj obviously , this ca n't be an event driven film and it 's not . xxmaj much of the action happens outside their house when they move around in the void . xxmaj and that 's where some of the most hilarious scenes take place , especially in the case of when xxmaj andrew discovers a candy bar . \\n\\n xxmaj now , one could be thinking : \" how does nothing look like ? \" xxmaj well , it looks like nothing indeed . xxmaj the entire world of nothing is white … white no matter in what direction you look . xxmaj this is the weakness of this film … xxmaj after an hour or less it 's getting extremely boring to look at and there has to be events to make sure it 's more interesting to look at . xxmaj thank xxmaj god , there are some . xxmaj for example at times when the two lads , due to the properties of nothing , are able to jump really high as if nothing is made out of … tofu ( as xxmaj andrew claims ) . xxmaj it 's fun to see how they are instantly able to use nothing to become gods of their own little society . \\n\\n xxmaj one of the best parts of the film is the set … xxmaj production designer xxmaj xxunk xxmaj xxunk has done a beautiful job in this film , the house in which these two guys live is so unnaturally fun to look at , still it seems right for these two to be living in a place like this . xxmaj all in all , the production design is with no doubt one of the most powerful aspects of this film at it really makes the film worth watching … \\n\\n xxmaj however , the very best part of the film is the acting . xxmaj both xxmaj david xxmaj hewlett and xxmaj andrew xxmaj miller really look like the professional actors they both are . xxmaj the camera is on them for every second of the film and as previously said , there are just about no props in the film , they are really on a bare stage . xxmaj with plenty of character development and some decent one - liners , clever dialogue ( at times hilariously stupid ) , it all works to that end - and this really moves the movie away from the low - budget area to well - crafted xxunk . \\n\\n xxmaj let 's talk a little about the visual effects , because they are definitely worth mentioning . xxmaj nothing features digital visual effects and prosthetics that equals any modern horror film . xxmaj there 's a rather horrifying dream sequence in the film , and although xxmaj the xxmaj drews have milked that scene completely it 's still fun to watch . xxmaj one of the best visual effects in the film is at the end where xxmaj andrew and xxmaj dave suddenly discover their powers in this environment - they have the abilities to wish everything away , so what if they can do it the other way around and make things appear ? \\n\\n \" nothing \" is a bright and well - lit movie , it really helps promoting the idea of them probably being dead ( this is in fact one of their theories ) , but \" nothing \" is a comedy and it slowly destroys its own theory . xxmaj we do n't know where they are or what has happened to them . xxmaj we do n't know if they will ever get out , because the movie ends before we see anything like that . xxmaj the ending , by the way , is not as good as it could 've been . xxmaj it 's rather easy to predict what is going to happen , still the writers have thought up a few incidents that help make it a little more interesting and in the end , it 's a reasonably satisfactory one . \\n\\n xxmaj take \" hollow xxmaj man \" , \" kill xxmaj bill \" , \" cube \" , \" epoch \" and lots of other films and you have \" nothing \" . xxmaj it really is an amalgam of different styles , still there is no other film ( at least that i know of ) xxmaj nothing is really like . xxmaj for the people remembering the original xxmaj cube xxmaj production xxmaj commentary on its xxup dvd may remember that xxmaj vincenzo xxmaj natali talked about how he came up with the story of xxmaj cube . xxmaj he talks about him and xxmaj andré xxmaj xxunk having been room - mates at a time and they both were in this extremely dull room with no hope of getting out , \" nothing \" could very well be the screened version of the origin of the xxmaj cube story , and to that end , it 's almost like one of the xxmaj cube prequels . \\n\\n xxmaj what can i say ? i enjoyed \" nothing \" , it is a great movie and the different parts of the movie are extremely well - made with tons of intelligent ideas , still i feel the movie is missing something and i have problems finding out precisely what it is … xxmaj maybe if we have a \" nothing 2 \" i can answer that question . \" nothing \" is a great film , but not as good as i expected it to be . \\n\\n xxmaj final rating : 7.5 / 10</td>\n",
       "      <td>pos</td>\n",
       "    </tr>\n",
       "    <tr>\n",
       "      <th>7</th>\n",
       "      <td>xxbos xxmaj in xxup nyc , seaman xxmaj michael o'hara ( orson xxmaj welles ) rescues xxmaj elsa xxmaj bannister ( rita xxmaj hayworth ) from a mugging &amp; rape as she takes a horse &amp; carriage through xxmaj central xxmaj park -and lives to regret it . xxmaj xxunk - haired xxmaj hayworth 's a platinum blonde in this one ; as dazzling as fresh - fallen snow -but nowhere near as pure … \\n\\n xxmaj to reveal any more of the convoluted plot in this seminal \" noir \" would be criminal . xxmaj it 's as deceptive as the mirrors used to cataclysmic effect in the final scenes -but the film holds far darker secrets : xxmaj from the xxup ny xxmaj times : \" childhood xxmaj shadows : xxmaj the xxmaj hidden xxmaj story xxmaj of xxmaj the xxmaj black xxmaj dahlia xxmaj murder \" by xxmaj mary xxmaj xxunk \" mary xxmaj xxunk , who was 5 years old when she was befriended by 15 year old xxmaj bette xxmaj short , xxunk xxmaj short 's steps , interviewing friends and associates . xxmaj she also offered a detailed , if speculative , analysis of xxmaj orson xxmaj welles xxunk in regard to his movie \" the xxmaj lady xxmaj from xxmaj shanghai \" . xxmaj according to xxmaj ms . xxmaj xxunk , the movie , along with related archival materials , has many of the same ritualistic elements associated with xxmaj short 's murder . xxmaj she raises the question : xxmaj could xxmaj welles have been the killer ? \" xxmaj interesting theories -and with the spate of books now out on \" the xxmaj black xxmaj dahlia \" , much more may come to light . xxmaj fritz xxmaj lang 's brutal \" film noir \" , \" the xxmaj big xxmaj heat \" ( 1953 ) , was a roman - a - clef telling of the \" dahlia \" killing in \" the xxmaj city xxmaj of xxmaj nets \" that was xxup l.a . -but it 's the xxmaj orson opus that the \" dahlia \" had a \" hands - on \" connection to . xxmaj in reality , it was xxmaj bugsy xxmaj siegel ( and the xxmaj hollywood mob wars of the 1940 's ) that did the \" dahlia \" in … but that does n't negate much of what xxmaj xxunk wrote . xxmaj almost all of xxmaj hollywood xxunk with xxmaj elizabeth ( \" the xxmaj black xxmaj dahlia \" ) xxmaj short and her tale / aura / legacy / curse is encoded in a number of xxmaj golden xxmaj age films . \\n\\n xxmaj the \" black xxmaj dahlia \" was always on the peripheral edges of \" xxunk before it started filming . xxmaj barbara xxmaj payton on xxmaj franchot xxmaj tone : \" it was when he was thinking about making \" the xxmaj lady xxmaj from xxmaj shanghai \" , before he lost the option to xxmaj orson xxmaj welles . xxmaj franchot said he 'd been in a bad state over that deal when he ran into the xxmaj dahlia in the xxmaj xxunk xxmaj cafe * across from the xxmaj goldwyn studios … \" * the floor above the xxmaj xxunk xxmaj cafe was xxmaj bugsy xxmaj siegel 's office and \" the xxmaj dahlia \" one of his on again / off again working \" girls \" . \\n\\n xxmaj it gets deeper and xxunk xxmaj after the 1951 brawl over xxmaj barbara xxmaj payton between xxmaj tom xxmaj neal and xxmaj franchot xxmaj tone that sent xxmaj franchot to the hospital with a concussion and \" never talking the same way again , \" xxmaj barbara said , she married xxmaj tone \" just to spite xxmaj neal . \" xxmaj tom ( \" detour \" ) xxmaj neal also knew \" the xxmaj dahlia \" ( who did n't ? ) and became xxunk xxmaj from \" l.a . xxmaj despair \" by xxmaj john xxmaj gilmore : \" the xxmaj january 1947 slaying of the young , beautiful would - be actress xxmaj elizabeth xxmaj short , known as \" the xxmaj black xxmaj dahlia \" , was one of the most grisly murders in the annals of modern crime . a project , called \" who xxmaj killed xxmaj the xxmaj black xxmaj dahlia ? \" was being kicked off by actor xxmaj tom xxmaj neal , a hell - raiser from xxup ww xxup ii movies . xxmaj potential producer xxmaj gene xxmaj harris : \" someone will have to come up with a more imaginative business proposition than what has been presented by xxmaj tom xxmaj neal and his cohorts … \" xxmaj not long after : \" it would be very clear one beautiful day to come , when xxmaj tom would sneak up on his pretty , new xxmaj palm xxmaj springs wife as she lay on their sofa and shoot a .45 bullet through her head . \" xxmaj barbara xxmaj payton and xxmaj norma xxmaj jean xxmaj dougherty ( later xxmaj marilyn xxmaj monroe ) knew the \" dahlia \" and their stories are well known . xxmaj it seems all who crossed the path of the \" dahlia \" ( like the proverbial black cat ) entered a \" twilight xxmaj zone \" darkness and / or had an incredible string of bad luck afterward . xxmaj tone / xxmaj neal / xxmaj welles are only a few -and this includes a butchered film called \" the xxmaj lady xxmaj from xxmaj shanghai \" … \\n\\n \" lady xxmaj from xxmaj shanghai \" took two years to be released , thanks to extensive re - editing -and all because xxmaj columbia president xxmaj harry xxmaj cohn could n't understand the story . xxmaj it 's dark \" noir \" to be sure -one of the darkest , in fact . xxmaj it 's also a wicked satire on life in the new xxmaj atomic xxmaj age . \\n\\n xxmaj nicolas xxmaj christopher : \\n\\n \" shanghai \" pushes forth an insistent subtext of nuclear apocalypse and contains the definitive noir statement concerning the atomic bomb and the xxmaj american city . xxmaj the film 's principal murder victim ( and there are many ) , a psychotic and double - dealing lawyer , manically foresees xxmaj armageddon at every turn , claiming he can \" feel it . \" xxmaj he announces that he plans to escape to a remote xxmaj pacific island -a particularly acid joke on xxmaj welles ' part since this was the very year the xxup u.s . began testing atomic bombs at just such a place , the xxmaj bikini xxmaj atoll , relocating all the inhabitants and destroying the ecosystem . xxmaj by the time of xxmaj bikini , the erotic identification of xxmaj hayworth with the xxmaj bomb appears to have been institutionalized , with the blessing of the military brass ; the first bomb dropped in the xxmaj pacific testing ground in named \" gilda \" and has xxmaj hayworth 's image , in provocative dress , painted directly on its casing … \" \\n\\n xxmaj its ironic that xxmaj orson xxmaj welles ' broad interpretation of an xxmaj irishman is considered a detriment to the film by many . xxmaj welles is giving a clue to viewers that \" michael o'hara \" is only the storyteller - not part of the story even though it revolves around him . \" o'hara \" contradicts the shark motif throughout the film . xxmaj sharks on a feeding frenzy wo n't stop until there 's nothing left . \" michael o'hara \" lives to tell the tale . \" elsa xxmaj bannister \" causes a feeding frenzy during \" o'hara 's \" trial and her netted chapeau suggests she 's caged in -so as not to devour the human spectators to a xxmaj roman xxmaj xxunk . xxmaj the spectators are on a feeding frenzy of their own , gossiping and carrying on about \" elsa \" -a human aquarium xxunk to the xxmaj san xxmaj francisco marine museum sequence . xxmaj that 's the human condition … except for \" michael o'hara \" . xxmaj and yet he 'll be spending his life trying to forget his past ( \" elsa \" ) -or die trying . \" elsa \" is part of \" michael \" and the tale eats its own tail in the end and the viewer is cautioned to stay out of trouble .</td>\n",
       "      <td>pos</td>\n",
       "    </tr>\n",
       "    <tr>\n",
       "      <th>8</th>\n",
       "      <td>xxbos xxmaj my xxmaj comments for xxup vivah : - xxmaj its a charming , idealistic love story starring xxmaj shahid xxmaj kapoor and xxmaj amrita xxmaj rao . xxmaj the film takes us back to small pleasures like the bride and bridegroom 's families sleeping on the floor , playing games together , their friendly banter and mutual respect . xxmaj vivah is about the sanctity of marriage and the importance of commitment between two individuals . xxmaj yes , the central romance is naively visualized . xxmaj but the sneaked - in romantic moments between the to - be - married couple and their stubborn resistance to modern courtship games makes you crave for the idealism . xxmaj the film predictably concludes with the marriage and the groom , on the wedding night , tells his new bride who suffers from burn injuries : \" come let me do your dressing \" \\n\\n v i v a h - showcases a lot of good things - beauty of arranged marriage , beauty of xxmaj indian culture , beauty of xxmaj indian woman , last but not least a nice xxup idealism of the about - to - be - couple waiting to get married … . playing by the rules ! xxmaj simple yet xxmaj beautiful ; xxmaj such a xxmaj simple story … . no plot … no villain - as is the case with most of xxmaj sooraj xxmaj barjatya films . xxmaj sooraj sir is back to what he does xxup best . xxmaj he has made the movie with xxup full xxup conviction . xxmaj its a very sweet film - which teaches the current generation a lot of good things bout xxmaj arranged xxmaj marriage &amp; the xxmaj union of 2 xxmaj families . i think xxup amrita xxup rao - looks very good &amp; she has acted very well . xxmaj she has most of the good scenes - although i thought the last half hour was completely to xxmaj shahid xxmaj kapur - who for a change gives an awesomely restrained performance . i also liked the acting of all others for ex . the xxmaj xxunk i.e. xxmaj amrita xxmaj prakash , xxmaj alok xxmaj nath , xxmaj anupam xxmaj kher , xxmaj shahid 's bro &amp; sis - in - law . xxmaj it almost seemed as real and recognizable as it could . xxmaj sooraj sir has got another nice family film to his credit after xxmaj maine xxmaj pyar xxmaj kiya , xxup hahk &amp; xxmaj hum xxmaj saath xxmaj saath xxmaj hain . xxmaj the chemistry between xxmaj shahid &amp; xxmaj amrita is xxup awesome . \\n\\n xxmaj stuff like xxmaj sanctity in a xxmaj marriage / xxmaj relationship , xxmaj avoiding xxmaj courtship , xxmaj mutual xxmaj respect , xxmaj care &amp; xxmaj space , xxmaj waiting for getting xxmaj married \" officially \" , xxmaj praying / xxmaj xxunk for xxmaj ur xxmaj beloved - all these and more get xxup showcased in xxmaj vivah . xxmaj there 's still some good audience who r going &amp; enjoying this film . xxmaj some of the folks / audience are already excited after seeing , that they r thinking bout arranged - marriage :) xxmaj that s xxmaj success if you ask me . it seems xxup amrita xxup rao - our actress - from - vivah { result for a nice performance } has been bestowed the prestigious xxup xxunk xxup xxunk award for 2006 ! ! xxmaj hats off to her for this achievement xxmaj chalo , even though xxmaj vivah , xxmaj shahid or xxmaj amrita did n't get any of the film - fare &amp; other awards ; @ least this is news to xxup cheer about ! ! xxmaj congrats to xxup amrita xxup xxunk for showing us a visual of xxmaj indian xxmaj bride - to - be in the purest form and xxmaj of xxmaj course to xxmaj sooraj xxmaj barjatya for portraying her the best way :) xxmaj xxunk forget xxmaj shahid xxmaj kapur and all others who make xxup vivah as sweet and legendary as it is today ! ! xxmaj imagine , to share the same pedestal as the legendary xxmaj dilip xxmaj kumar … … … . xxmaj its no mean achievement ! ! xxmaj congrats to xxmaj amrita xxmaj rao - for taking her xxmaj career to another level with this award … . i personally feel - she should keep doing movies only with xxmaj shahid xxmaj kapur ! ! xxmaj they make a cute couple and their on - screen chemistry reminds me of { srk - kajol } or { aamir xxmaj khan &amp; xxmaj juhi xxmaj chawla } … … … … … .. \\n\\n xxmaj some points that i observed , few of the elements : - # 1 xxmaj if u notice carefully , xxmaj amrita xxmaj rao looks so good because she s always wearing traditional dresses . xxmaj she gives every bit of the xxmaj indian xxmaj woman essence - in this film ! ! xxmaj perfect xxmaj fit # 2 xxmaj shahid xxmaj kapur is like most of us - not exactly ready for marriage or early - marriage … . but xxup prem listens carefully to the step - wise talk given by his xxup dad - having full faith in xxmaj anupam xxmaj kher . xxmaj eventually \" honesty \" &amp; \" trust \" are the keywords that he reflects in his first talk with xxmaj amrita . xxmaj most people would think such a first meeting with a total stranger plus for a limited time is never enough to judge a person . xxmaj but according to what i saw in this film , i have a feeling - that xxmaj two people who are made for each other can connect within a 1st meet also , xxmaj its possible xxrep 3 ! # 3 xxmaj in the entire movie - there are basically 4 or 5 sequences where xxmaj shahid &amp; xxmaj amrita are together - or shown to be together . xxmaj its unlike most other romantic / wedding - based movies where xxmaj hero &amp; xxmaj heroine are always singing / dancing or nowadays - doing cheap stuff . xxmaj but the beauty of each of these 5 sequences : - xxmaj characterized by restraint , innocence &amp; respect for the other ! # 4 i really liked the relationship shown between xxmaj xxunk xxup alok xxup nath &amp; xxmaj amrita xxmaj rao . xxmaj these kinda movies should highlight the indifference shown to daughters / girl - kids in some parts of xxmaj india . # 5 xxmaj romantic scenes between lead couple are shot very nicely - no cheap scenes , songs are beautifully pictured ! ! xxmaj words like \" xxunk \" xxunk . are going to be xxunk for all girls who liked this film :) xxmaj personally , i really am fond of many dialogs in this film . # 6 xxmaj last but not the least - xxmaj the entire xxmaj hospital xxmaj scene where xxmaj shahid puts \" xxunk \" to xxmaj amrita when she s struggling for xxmaj life - is terrific . xxmaj those dialogs between the couple are so touching and u feel the xxup love / i - cant - do - without - u ; xxmaj its a hats - off feeling xxrep 3 ! \\n\\n▁ xxrep 3 * xxmaj in many ways , xxup vivah reminded me of xxmaj maine xxmaj pyar xxmaj kiya , xxup ddlj , xxmaj qayamat xxmaj se xxmaj qayamat xxmaj tak , xxmaj hum xxmaj dil xxmaj de xxmaj chuke xxmaj sanam - for the freshness / on - screen - chemistry of the xxup lead pair :) :) xxrep 3 * xxup if u xxup ask xxup me : - xxmaj along with films like xxmaj rang xxmaj de xxmaj basanti , xxmaj xxunk xxmaj raho xxmaj munnabhai , xxup dor , xxup corporate and xxmaj kabul xxmaj express , v i v a h ranks among the best films made in 2006 . xxup in xxup fact - i think xxmaj vivah does deserve better viewing / business than xxmaj xxunk or xxmaj fanaa or xxmaj golmaal or all those time - pass / fuzzy / style / crap movies ! !</td>\n",
       "      <td>pos</td>\n",
       "    </tr>\n",
       "  </tbody>\n",
       "</table>"
      ],
      "text/plain": [
       "<IPython.core.display.HTML object>"
      ]
     },
     "metadata": {},
     "output_type": "display_data"
    }
   ],
   "source": [
    "dbunch_clas.show_batch()"
   ]
  },
  {
   "cell_type": "markdown",
   "metadata": {},
   "source": [
    "We can then create a model to classify those reviews and load the encoder we saved before."
   ]
  },
  {
   "cell_type": "code",
   "execution_count": null,
   "metadata": {},
   "outputs": [
    {
     "data": {
      "text/plain": [
       "<fastai2.text.learner.RNNLearner at 0x7f033cb75f10>"
      ]
     },
     "execution_count": null,
     "metadata": {},
     "output_type": "execute_result"
    }
   ],
   "source": [
    "learn = text_classifier_learner(dbunch_clas, AWD_LSTM, vocab, drop_mult=0.5, metrics=accuracy).to_fp16()\n",
    "learn.load_encoder('fine_tuned_enc')"
   ]
  },
  {
   "cell_type": "code",
   "execution_count": null,
   "metadata": {},
   "outputs": [
    {
     "data": {
      "text/html": [],
      "text/plain": [
       "<IPython.core.display.HTML object>"
      ]
     },
     "metadata": {},
     "output_type": "display_data"
    },
    {
     "data": {
      "image/png": "[encoded data removed]",
      "text/plain": [
       "<Figure size 432x288 with 1 Axes>"
      ]
     },
     "metadata": {
      "needs_background": "light"
     },
     "output_type": "display_data"
    }
   ],
   "source": [
    "learn.lr_find()"
   ]
  },
  {
   "cell_type": "code",
   "execution_count": null,
   "metadata": {},
   "outputs": [
    {
     "data": {
      "text/html": [
       "<table border=\"1\" class=\"dataframe\">\n",
       "  <thead>\n",
       "    <tr style=\"text-align: left;\">\n",
       "      <th>epoch</th>\n",
       "      <th>train_loss</th>\n",
       "      <th>valid_loss</th>\n",
       "      <th>accuracy</th>\n",
       "      <th>time</th>\n",
       "    </tr>\n",
       "  </thead>\n",
       "  <tbody>\n",
       "    <tr>\n",
       "      <td>0</td>\n",
       "      <td>0.347427</td>\n",
       "      <td>0.184480</td>\n",
       "      <td>0.929320</td>\n",
       "      <td>00:33</td>\n",
       "    </tr>\n",
       "  </tbody>\n",
       "</table>"
      ],
      "text/plain": [
       "<IPython.core.display.HTML object>"
      ]
     },
     "metadata": {},
     "output_type": "display_data"
    }
   ],
   "source": [
    "learn.fit_one_cycle(1, 2e-2, moms=(0.8,0.7, 0.8))"
   ]
  },
  {
   "cell_type": "code",
   "execution_count": null,
   "metadata": {},
   "outputs": [],
   "source": [
    "learn.save('first')"
   ]
  },
  {
   "cell_type": "code",
   "execution_count": null,
   "metadata": {},
   "outputs": [],
   "source": [
    "learn.load('first');"
   ]
  },
  {
   "cell_type": "code",
   "execution_count": null,
   "metadata": {},
   "outputs": [
    {
     "data": {
      "text/html": [
       "<table border=\"1\" class=\"dataframe\">\n",
       "  <thead>\n",
       "    <tr style=\"text-align: left;\">\n",
       "      <th>epoch</th>\n",
       "      <th>train_loss</th>\n",
       "      <th>valid_loss</th>\n",
       "      <th>accuracy</th>\n",
       "      <th>time</th>\n",
       "    </tr>\n",
       "  </thead>\n",
       "  <tbody>\n",
       "    <tr>\n",
       "      <td>0</td>\n",
       "      <td>0.247763</td>\n",
       "      <td>0.171683</td>\n",
       "      <td>0.934640</td>\n",
       "      <td>00:37</td>\n",
       "    </tr>\n",
       "  </tbody>\n",
       "</table>"
      ],
      "text/plain": [
       "<IPython.core.display.HTML object>"
      ]
     },
     "metadata": {},
     "output_type": "display_data"
    }
   ],
   "source": [
    "learn.freeze_to(-2)\n",
    "learn.fit_one_cycle(1, slice(1e-2/(2.6**4),1e-2), moms=(0.8,0.7, 0.8))"
   ]
  },
  {
   "cell_type": "code",
   "execution_count": null,
   "metadata": {},
   "outputs": [],
   "source": [
    "learn.save('second')"
   ]
  },
  {
   "cell_type": "code",
   "execution_count": null,
   "metadata": {},
   "outputs": [],
   "source": [
    "learn.load('second');"
   ]
  },
  {
   "cell_type": "code",
   "execution_count": null,
   "metadata": {},
   "outputs": [
    {
     "data": {
      "text/html": [
       "<table border=\"1\" class=\"dataframe\">\n",
       "  <thead>\n",
       "    <tr style=\"text-align: left;\">\n",
       "      <th>epoch</th>\n",
       "      <th>train_loss</th>\n",
       "      <th>valid_loss</th>\n",
       "      <th>accuracy</th>\n",
       "      <th>time</th>\n",
       "    </tr>\n",
       "  </thead>\n",
       "  <tbody>\n",
       "    <tr>\n",
       "      <td>0</td>\n",
       "      <td>0.193377</td>\n",
       "      <td>0.156696</td>\n",
       "      <td>0.941200</td>\n",
       "      <td>00:45</td>\n",
       "    </tr>\n",
       "  </tbody>\n",
       "</table>"
      ],
      "text/plain": [
       "<IPython.core.display.HTML object>"
      ]
     },
     "metadata": {},
     "output_type": "display_data"
    }
   ],
   "source": [
    "learn.freeze_to(-3)\n",
    "learn.fit_one_cycle(1, slice(5e-3/(2.6**4),5e-3),moms=(0.8,0.7, 0.8))"
   ]
  },
  {
   "cell_type": "code",
   "execution_count": null,
   "metadata": {},
   "outputs": [],
   "source": [
    "learn.save('third')"
   ]
  },
  {
   "cell_type": "code",
   "execution_count": null,
   "metadata": {},
   "outputs": [],
   "source": [
    "learn.load('third');"
   ]
  },
  {
   "cell_type": "code",
   "execution_count": null,
   "metadata": {},
   "outputs": [
    {
     "data": {
      "text/html": [
       "<table border=\"1\" class=\"dataframe\">\n",
       "  <thead>\n",
       "    <tr style=\"text-align: left;\">\n",
       "      <th>epoch</th>\n",
       "      <th>train_loss</th>\n",
       "      <th>valid_loss</th>\n",
       "      <th>accuracy</th>\n",
       "      <th>time</th>\n",
       "    </tr>\n",
       "  </thead>\n",
       "  <tbody>\n",
       "    <tr>\n",
       "      <td>0</td>\n",
       "      <td>0.172888</td>\n",
       "      <td>0.153770</td>\n",
       "      <td>0.943120</td>\n",
       "      <td>01:01</td>\n",
       "    </tr>\n",
       "    <tr>\n",
       "      <td>1</td>\n",
       "      <td>0.161492</td>\n",
       "      <td>0.155567</td>\n",
       "      <td>0.942640</td>\n",
       "      <td>00:57</td>\n",
       "    </tr>\n",
       "  </tbody>\n",
       "</table>"
      ],
      "text/plain": [
       "<IPython.core.display.HTML object>"
      ]
     },
     "metadata": {},
     "output_type": "display_data"
    }
   ],
   "source": [
    "learn.unfreeze()\n",
    "learn.fit_one_cycle(2, slice(1e-3/(2.6**4),1e-3), moms=(0.8,0.7, 0.8))"
   ]
  },
  {
   "cell_type": "code",
   "execution_count": null,
   "metadata": {},
   "outputs": [
    {
     "data": {
      "text/html": [
       "\n",
       "    <div>\n",
       "        <style>\n",
       "            /* Turns off some styling */\n",
       "            progress {\n",
       "                /* gets rid of default border in Firefox and Opera. */\n",
       "                border: none;\n",
       "                /* Needs to be in here for Safari polyfill so background images work as expected. */\n",
       "                background-size: auto;\n",
       "            }\n",
       "            .progress-bar-interrupted, .progress-bar-interrupted::-webkit-progress-bar {\n",
       "                background: #F44336;\n",
       "            }\n",
       "        </style>\n",
       "      <progress value='0' class='' max='1', style='width:300px; height:20px; vertical-align: middle;'></progress>\n",
       "      \n",
       "    </div>\n",
       "    "
      ],
      "text/plain": [
       "<IPython.core.display.HTML object>"
      ]
     },
     "metadata": {},
     "output_type": "display_data"
    },
    {
     "data": {
      "text/html": [],
      "text/plain": [
       "<IPython.core.display.HTML object>"
      ]
     },
     "metadata": {},
     "output_type": "display_data"
    },
    {
     "data": {
      "text/plain": [
       "('pos', tensor(1), tensor([1.4426e-04, 9.9986e-01]))"
      ]
     },
     "execution_count": null,
     "metadata": {},
     "output_type": "execute_result"
    }
   ],
   "source": [
    "learn.predict(\"xxbos xxmaj i really loved that movie , it was awesome !\".split(' '), rm_type_tfms=1)"
   ]
  },
  {
   "cell_type": "code",
   "execution_count": null,
   "metadata": {},
   "outputs": [],
   "source": []
  }
 ],
 "metadata": {
  "kernelspec": {
   "display_name": "Python 3",
   "language": "python",
   "name": "python3"
  }
 },
 "nbformat": 4,
 "nbformat_minor": 2
}
